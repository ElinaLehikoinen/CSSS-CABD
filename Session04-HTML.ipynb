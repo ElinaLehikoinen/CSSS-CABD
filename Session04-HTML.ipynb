{
 "cells": [
  {
   "cell_type": "markdown",
   "metadata": {
    "slideshow": {
     "slide_type": "slide"
    }
   },
   "source": [
    "## Scraping websites"
   ]
  },
  {
   "cell_type": "markdown",
   "metadata": {
    "slideshow": {
     "slide_type": "slide"
    }
   },
   "source": [
    "![](https://raw.githubusercontent.com/nealcaren/CSSS-CABD/master/images/moby.png)"
   ]
  },
  {
   "cell_type": "markdown",
   "metadata": {
    "slideshow": {
     "slide_type": "slide"
    }
   },
   "source": [
    "How I scrape a page\n",
    "\n",
    "1. Look at the source code of a sample page.\n",
    "1. Download the page.\n",
    "2. Find the thing that you want, and the stuff around that thing.\n",
    "3. Write a regular expression that matches what you want.\n",
    "4. Write regular expression that actually matches what you want.\n",
    "5. Test that it works on one page.\n",
    "5. Production!"
   ]
  },
  {
   "cell_type": "markdown",
   "metadata": {
    "slideshow": {
     "slide_type": "slide"
    }
   },
   "source": [
    "How I could also scrape a page\n",
    "\n",
    "1. Look at the source code of a sample page.\n",
    "1. Download the page.\n",
    "2. Find the thing that you want, and the stuff around that thing.\n",
    "3. Parse the HTML. \n",
    "5. Test that it works on one page.\n",
    "5. Production!"
   ]
  },
  {
   "cell_type": "code",
   "execution_count": 8,
   "metadata": {
    "collapsed": true,
    "slideshow": {
     "slide_type": "slide"
    }
   },
   "outputs": [],
   "source": [
    "import requests"
   ]
  },
  {
   "cell_type": "code",
   "execution_count": 9,
   "metadata": {
    "collapsed": true,
    "slideshow": {
     "slide_type": "fragment"
    }
   },
   "outputs": [],
   "source": [
    "url = 'http://mobilizationjournal.org/toc/maiq/22/2'"
   ]
  },
  {
   "cell_type": "code",
   "execution_count": 10,
   "metadata": {
    "slideshow": {
     "slide_type": "fragment"
    }
   },
   "outputs": [
    {
     "name": "stdout",
     "output_type": "stream",
     "text": [
      "http://mobilizationjournal.org/toc/maiq/22/2\n"
     ]
    }
   ],
   "source": [
    "volume = 22\n",
    "issue  = 2\n",
    "\n",
    "url = 'http://mobilizationjournal.org/toc/maiq/%s/%s' % (volume, issue)\n",
    "\n",
    "print(url)"
   ]
  },
  {
   "cell_type": "code",
   "execution_count": 11,
   "metadata": {
    "collapsed": true,
    "slideshow": {
     "slide_type": "slide"
    }
   },
   "outputs": [],
   "source": [
    "page = requests.get(url)"
   ]
  },
  {
   "cell_type": "code",
   "execution_count": 12,
   "metadata": {
    "slideshow": {
     "slide_type": "fragment"
    }
   },
   "outputs": [
    {
     "name": "stdout",
     "output_type": "stream",
     "text": [
      "{'Content-Length': '9522', 'Content-Encoding': 'gzip', 'X-Webstats-RespID': 'daf563d9193be27a22480978d57e57aa', 'Vary': 'Accept-Encoding', 'Server': 'AtyponWS/7.1', 'Connection': 'Keep-Alive', 'Pragma': 'no-cache', 'Cache-Control': 'no-cache', 'Date': 'Wed, 19 Jul 2017 16:49:58 GMT', 'Content-Type': 'text/html; charset=UTF-8'}\n"
     ]
    }
   ],
   "source": [
    "print page.headers"
   ]
  },
  {
   "cell_type": "code",
   "execution_count": 13,
   "metadata": {
    "slideshow": {
     "slide_type": "fragment"
    }
   },
   "outputs": [
    {
     "data": {
      "text/plain": [
       "200"
      ]
     },
     "execution_count": 13,
     "metadata": {},
     "output_type": "execute_result"
    }
   ],
   "source": [
    "page.status_code"
   ]
  },
  {
   "cell_type": "code",
   "execution_count": 14,
   "metadata": {
    "slideshow": {
     "slide_type": "slide"
    }
   },
   "outputs": [
    {
     "data": {
      "text/plain": [
       "u'\\n\\n\\n\\n\\n\\n\\n\\n\\n\\n\\n\\n\\n\\n\\n\\n\\n\\n\\n\\n\\n\\n        \\n\\n        \\n                \\n                \\n                \\n                    \\n                    \\n                        \\n                                \\n                            \\n                        \\n                        \\n                    \\n                \\n            \\n        \\n                \\n            \\n    \\n\\n\\n\\n\\n\\n\\n\\n\\n\\n\\n<!DOCTYPE html PUBLIC \"-//W3C//DTD XHTML 1.0 Transitional//EN\" \"http://www.w3.org/TR/xhtml1/DTD/xhtml1-transitional.dtd\">\\n\\n\\n\\n<html xmlns=\"http://www.w3.org/1999/xhtml\" xml:lang=\"en-US\" lang=\"en-US\">\\n<head>\\n    \\n\\n\\n\\n\\n\\n\\n<title>\\n    \\n            Mobilization: An International Quarterly\\n            -\\n            \\n                    Journal - Table of Contents\\n                \\n        \\n</title>\\n\\n    <meta http-equiv=\"Content-Type\" content=\"text/html; charset=UTF-8\" />\\n    \\n<meta name=\"robots\" content=\"noarchive\" />\\n\\n\\n\\n\\n\\n\\n\\n\\n\\n\\n<meta name=\"MSSmartTagsPreventParsing\" content=\"true\"/>\\n\\n\\n\\n\\n    \\n    \\n    <script>\\n        (function(i,s,o,g,r,a,m){i[\\'GoogleAnalyticsObject\\']=r;i[r]=i[r]||function(){\\n            (i[r].q=i[r].q||[]).push(arguments)},i[r].l=1*new Date();a=s.createElement(o),\\n                m=s.getElementsByTagName(o)[0];a.async=1;a.src=g;m.parentNode.insertBefore(a,m)\\n        })(window,document,\\'script\\',\\'//www.google-analytics.com/analytics.js\\',\\'ga\\');\\n\\n        ga(\\'create\\', \\'UA-60157750-4\\', \\'auto\\');\\n        ga(\\'send\\', \\'pageview\\');\\n    </script>\\n\\n\\n\\n\\n\\n\\n\\n\\n\\n    \\n\\n    \\n\\n\\n\\n\\n\\n    \\n    \\n    \\n    <!-- multiple js libraries should be removed once the refactorting from prototype to jquery is complete -->\\n    \\n    <link href=\"/templates/jsp/style.css\" rel=\"stylesheet\" type=\"text/css\" />\\n<link href=\"/templates/jsp/_style2/style.css\" rel=\"stylesheet\" type=\"text/css\" />\\n<link href=\"/templates/jsp/_style2/_AP/style.css\" rel=\"stylesheet\" type=\"text/css\" />\\n<link href=\"/templates/jsp/_style2/_AP/_pinnacle/style.css\" rel=\"stylesheet\" type=\"text/css\" />\\n<link href=\"/templates/jsp/_style2/_AP/css/global.css\" rel=\"stylesheet\" type=\"text/css\" />\\n<link href=\"/templates/jsp/_style2/_AP/_pinnacle/_theme2/css/global.product.css\" rel=\"stylesheet\" type=\"text/css\" />\\n<link href=\"/templates/jsp/_style2/_AP/_pinnacle/css/pinnacle.css\" rel=\"stylesheet\" type=\"text/css\" />\\n<link href=\"/templates/jsp/_style2/_AP/css/widgets.css\" rel=\"stylesheet\" type=\"text/css\" />\\n<link href=\"/templates/jsp/_style2/_AP/_pinnacle/_theme2/css/widgets.product.css\" rel=\"stylesheet\" type=\"text/css\" />\\n<link href=\"/templates/jsp/_style2/_AP/css/headfoot.css\" rel=\"stylesheet\" type=\"text/css\" />\\n<link href=\"/templates/jsp/_style2/_AP/_pinnacle/_theme2/css/headfoot.product.css\" rel=\"stylesheet\" type=\"text/css\" />\\n<link href=\"/templates/jsp/_style2/_AP/css/browse.css\" rel=\"stylesheet\" type=\"text/css\" />\\n<link href=\"/templates/jsp/_style2/_AP/_pinnacle/_theme2/css/browse.product.css\" rel=\"stylesheet\" type=\"text/css\" />\\n\\n    <!--[if lt IE 8]>\\n    <link href=\"/templates/jsp/_style2/_AP/css/ie.css\" rel=\"stylesheet\" type=\"text/css\"/>\\n    <link href=\"/templates/jsp/_style2/_AP/_pinnacle/css/ie.product.css\" rel=\"stylesheet\" type=\"text/css\"/>\\n    <![endif]-->\\n    <!--[if IE 6]><link href=\"/templates/jsp/_style2/_AP/css/ie6.css\" rel=\"stylesheet\" type=\"text/css\"/><![endif]-->\\n    <script type=\"text/javascript\"  src=\"/templates/jsp/_style2/_AP/_pinnacle/js/jquery.js\"></script>\\n<script type=\"text/javascript\"  src=\"/templates/jsp/script.js\"></script>\\n<script type=\"text/javascript\"  src=\"/templates/jsp/_style2/script.js\"></script>\\n<script type=\"text/javascript\"  src=\"/templates/jsp/_style2/_AP/script.js\"></script>\\n<script type=\"text/javascript\"  src=\"/templates/jsp/js/behaviour.js\"></script>\\n<script type=\"text/javascript\"  src=\"/templates/jsp/js/behaviourRules.js\"></script>\\n\\n    \\n\\n\\n<style type=\"text/css\">\\ndiv#headerTopContainer {\\n    background:url(/userimages/ContentEditor/1425330507088/HJDM_navbar.png);\\n    background-color: #CBCCCD;\\n    padding: 0 0;\\n}\\n\\n#journalMenu ul ul {\\n    background:#a3a3a3;\\n}\\n\\n#journalMenu li:hover,\\n  #journalMenu li:hover h2 {\\n  background:#c1c1c1 !important;\\n}\\n\\n#journalMenu h2 a {\\n    font-size:10pt;\\n    font-family:Verdana;\\n    color:#434343;\\n}\\n\\n#journalMenu ul ul {\\n    background:#a3a3a3;\\n}\\n\\ndiv#journalMenu ul li:hover ul a,\\n  div#journalMenu ul ul li:hover ul a,\\n  div#journalMenu ul ul ul li:hover ul a {\\n    font-size:10pt;\\n    font-family:Verdana;\\n    color:#ffffff;\\n}\\n\\n.panelHeading, .panelFooter {\\n    background-color:#a4a4a4;\\n    color:#000000;\\n}\\n\\ndiv.panelBody {\\n    background-color:#dddddd;\\n    border-color:#a4a4a4;\\n    border-width: 0 1px 0 1px;\\n    border-style: solid;\\n}\\n\\n.panelHeading .right {\\n    background-image: url(\\'/templates/jsp/_style2/_AP/_pinnacle/images/curve_right_top2.png\\');\\n}\\n\\n.panelHeading .left {\\n    background-image: url(\\'/templates/jsp/_style2/_AP/_pinnacle/images/curve_left_top.png\\');\\n}\\n\\n.panelFooter .right {\\n    background-image: url(\\'/templates/jsp/_style2/_AP/_pinnacle/images/curve_right_bottom.png\\');\\n}\\n\\n.panelFooter .left {\\n    background-image: url(\\'/templates/jsp/_style2/_AP/_pinnacle/images/curve_left_bottom.png\\');\\n}\\n</style>\\n\\n\\n<style type=\"text/css\">\\ndiv.panelTopRight {\\nbackground-image:url(/templates/jsp/_style2/_AP/_pinnacle/images/curve_right_top2.png);\\nbackground-repeat:no-repeat;\\n}\\ndiv.panelBottomLeft {\\nbackground-image:url(/templates/jsp/_style2/_AP/_pinnacle/images/curve_left_bottom.png);\\nbackground-repeat:no-repeat;\\n}\\ndiv.panelTopLeft {\\nbackground-image:url(/templates/jsp/_style2/_AP/_pinnacle/images/curve_left_top.png);\\nbackground-repeat:no-repeat;\\n}\\ndiv.panelBottomRight {\\nbackground-image:url(/templates/jsp/_style2/_AP/_pinnacle/images/curve_right_bottom.png);\\nbackground-repeat:no-repeat;\\n}\\ndiv#articleNavLinks {\\n\\nmargin-right:0.5em;\\n}\\n</style>\\n    \\n\\n\\n\\n\\n\\n</head>\\n<body class=\"clearfix\">\\n<div id=\"container\">\\n    \\n\\n\\n\\n\\n\\n\\n\\n\\n\\n\\n\\n\\n    <div id=\"header\">\\n        \\n                \\n\\n\\n<a name=\"pageTop\"></a>\\n \\n\\n\\n\\n\\n\\n\\n\\n\\n\\n\\n<div id=\"identity-bar\">\\n    <!-- placeholder id=null, description=Header - Mobile Button -->\\n\\n    \\n        \\n        <span id=\"institution-banner-text\">\\n            \\n        </span>\\n        \\n    \\n\\n    <span id=\"individual-menu\">\\n        \\n\\n        \\n                \\n                \\n                <a href=\"https://pinnacle-secure.allenpress.com/action/showLogin?code=HJDM-site&amp;uri=%2Ftoc%2Fmaiq%2F22%2F2%3Fcode%3Dhjdm-site\">\\n                    Log In\\n                </a>\\n                &nbsp;|&nbsp;\\n                <a href=\"https://pinnacle-secure.allenpress.com/action/registration?code=HJDM-site\">\\n                    Register\\n                </a>\\n            \\n        \\n        \\n            &nbsp;|&nbsp;\\n            <a href=\"/help\">\\n                Help\\n            </a>\\n        \\n        &nbsp;|&nbsp;\\n        \\n        <a href=\"https://pinnacle-secure.allenpress.com/action/showCart?code=HJDM-site\">Cart </a>\\n    </span>\\n</div>\\n<div id=\"headerAds\">\\n    <!-- placeholder id=null, description=Header Message 1 -->\\n    <!-- placeholder id=null, description=Header Message 2 -->\\n    \\n    \\n</div>\\n\\n\\n\\n\\n\\n\\n\\n    <img src=\"/userimages/1314156/banner\" alt=\"Hank Johnston DBA Mobilization Journal\" width=\"980\" />\\n    \\n\\n<div class=\"headerContainer\" id=\"headerTopContainer\">\\n     <div id=\"journalMenu\">         \\n            \\n\\n\\n<ul><li class=\"first\"><h2><a href=\"/?code=hjdm-site\">&emsp; HOME &emsp;</a></h2>\\n</li>\\n</ul><ul><li><h2><a href=\"/loi/maiq?code=hjdm-site\">&emsp; CONTENT &emsp;</a></h2>\\n</li>\\n</ul><ul><li class=\"hasSubmenu\"><h2><a href=\"/page/about?code=hjdm-site\">&emsp; ABOUT &emsp;</a></h2>\\n<ul><li class=\"first\"><a href=\"/action/ecommerce?code=hjdm-site\">Subscribe</a></li>\\n<li><a href=\"https://mobilization.scholasticahq.com/for-authors\" target=\"_blank\">Submit</a></li>\\n<li class=\"last\"><a href=\"https://mobilization.scholasticahq.com/\" target=\"_blank\">Contact</a></li>\\n</ul>\\n</li>\\n</ul><ul><li class=\"last\"><h2><a href=\"/help?code=hjdm-site\">&emsp; HELP &emsp;</a></h2>\\n</li>\\n</ul>       \\n    </div>\\n    <ul id=\"quickSearchBox\">\\n        <li>\\n            \\n\\n\\n\\n\\n<form action=\"/action/doSearch\" name=\"simpleQuickSearchForm1\" method=\"get\"><input id=\"searchQuery\" type=\"text\" name=\"AllField\" value=\"\" size=\"18\" onfocus=\"this.value=\\'\\';\" placeholder=\"Quick Search\" />\\n    \\n    \\n    <input onclick=\"javascript:checkQuickSearchInput(document.simpleQuickSearchForm1,\\'Quick Search\\');return false;\" id=\"gosearch\" type=\"submit\" value=\"\" alt=\"Search\" /></form>\\n        </li>\\n    </ul>\\n</div>\\n\\n    <div id=\"breadcrumbs\">\\n        <table class=\"headerBreadcrumbs\">\\n            <tr>\\n                <td>\\n                    \\n\\n\\n\\n\\n\\n    <a href=\"/\">Home</a>\\n    \\n        &gt;\\n        \\n                <a href=\"/loi/maiq\">\\n                    Mobilization: An International Quarterly\\n                </a>\\n            \\n    \\n        &gt;\\n        \\n                June 2017\\n            \\n    \\n\\n\\n\\n                </td>\\n                <td class=\"headerAdvancedSearch\">\\n                    <a href=\"/search/advanced\">Advanced Search</a>\\n                    <!-- placeholder id=null, description=Google Translator Widget -->\\n                </td>\\n            </tr>\\n        </table>\\n    </div>\\n\\n\\n            \\n    </div>\\n    <div id=\"content\">\\n        <div class=\"panelContent\">\\n            <table cellspacing=\"0\" cellpadding=\"0\" border=\"0\" width=\"980\">\\n            <tbody>\\n                <tr valign=\"top\">\\n                    <!-- Left Nav-->\\n                    <!-- Custom Nav links -->\\n                    <td width=\"228\">\\n                        <div id=\"leftCol\">\\n\\n\\n\\n\\n\\n\\n\\n<ul id=\"customLinks\">        <li style=\"border:1px solid #691a1a !important;\"><a href=\"/action/ecommerce\">Subscribe</a><br /></li><li style=\"border:1px solid #691a1a !important;\"><a href=\"https://mobilization.scholasticahq.com/for-authors\" target=\"_blank\">Submit</a><br /></li><li style=\"border:1px solid #691a1a !important;\"><a href=\"https://mobilization.scholasticahq.com/\" target=\"_blank\">Contact</a><br /></li>    </ul>\\n\\n\\n\\n\\n\\n        <!-- placeholder id=null, description=Journal Message 1 -->\\n    \\n\\n\\n\\n\\n\\n\\n\\n\\n\\n        <!-- placeholder id=null, description=Journal Message 2 -->\\n    \\n\\n\\n\\n\\n\\n\\n\\n\\n\\n        <!-- placeholder id=null, description=Journal Message 3 -->\\n    \\n\\n\\n\\n\\n\\n\\n\\n\\n        <!-- placeholder id=null, description=Journal Message 4 -->\\n    \\n\\n\\n\\n\\n\\n\\n\\n\\n        <!-- placeholder id=null, description=Journal Message 5 -->\\n    \\n\\n\\n</div>\\n                    </td>\\n                    <td class=\"bc\">\\n                        <div id=\"middleCol\"><form name=\"frmAbs\" action=\"\">\\n            \\n\\n\\n\\n\\n\\n\\n\\n\\n\\n\\n    \\n        <div class=\"article_tools\">\\n            \\n\\n\\n\\n\\n\\n<div id=\"articleNavLinks\">\\n    <table cellspacing=\"10\" cellpadding=\"0\" border=\"0\" id=\"Table9\" class=\"bc\" align=\"center\" valign=\"middle\">\\n        <tbody>\\n        <tr>\\n            \\n            <td>\\n                <div id=\"articleToolsHeading\">\\n                    \\n\\n\\n\\n\\n\\n    \\n\\n                    \\n\\n                    \\n                            Volume 22, Issue 2 <br/>(June 2017)\\n                                        \\n\\n\\n\\n\\n\\n<div class=\"issueEditor\"></div>\\n                        \\n                </div>\\n            </td>\\n            \\n        </tr>\\n        </tbody>\\n    </table>\\n</div>\\n\\n            \\n        \\n\\n\\n\\n\\n    \\n\\n\\n\\n\\n<ul id=\"toolsList\">\\n    \\n    \\n        <li id=\"showAbs\">\\n            <a href=\"javascript:submitArticles(document.frmAbs, \\'/action/showMultipleAbstracts\\')\">\\n                View Abstracts\\n            </a>\\n        </li>\\n        <li class=\"divider\">|</li>\\n    \\n    <li id=\"addToFavs\">\\n        \\n        <a href=\"javascript:submitArticles(document.frmAbs, \\'/personalize/addFavoritePublication\\')\">Add to Favorites</a>\\n    </li>\\n    <li class=\"divider\">|</li>\\n    <li id=\"emailArt\">\\n        \\n        <a href=\"javascript:submitArticles(document.frmAbs, \\'/action/showMailPage\\')\">Share Article</a>\\n    </li>\\n    <li class=\"divider wbr\">|</li>\\n    <li id=\"downloadCit\">\\n        \\n        <a href=\"javascript:submitArticles(document.frmAbs, \\'/action/showCitFormats\\')\">Export Citations</a>\\n    </li>\\n    <li class=\"divider\">|</li>\\n    <li id=\"trackCit\"  title=\"Track Citations shows articles citing this article. You may also sign up to receive an alert when this article is cited in the future via RSS feed.\">\\n        \\n        \\n        Track Citations (<a href=\"/action/addCitationRss?doi=10.17813%2F1086671X-22.2\">RSS</a> | <a href=\"/action/addCitationAlert?doi=10.17813%2F1086671X-22.2&referrer=%2Ftoc%2Fmaiq%2F22%2F2%3Fcode%3Dhjdm-site\">Email</a>)\\n    </li>\\n    \\n</ul>\\n        \\n        </div>\\n    \\n\\n            \\n\\n\\n\\n\\n\\n<div class=\"panel_100p\" id=\"tocPanel\">\\n    <div class=\"panelHeading\">\\n        <div class=\"left\"></div>\\n        <div class=\"content\">\\n            &nbsp;\\n        </div>\\n        <div class=\"right\"></div>\\n    </div>\\n    <div class=\"panelBody\">\\n        <div id=\"marker\">\\n                        <input type=\"checkbox\" name=\"markall\" id=\"markall\" onclick=\"onClickMarkAll(frmAbs)\"/>\\n                        <label for=\"markall\">Select All</label>\\n                    </div>\\n                   <div style=\"float:right\">\\n                       \\n\\n\\n\\n\\n\\n    \\n    <table summary=\"\">\\n        <tr>\\n            <td nowrap=\"nowrap\"></td>\\n            <td nowrap=\"nowrap\">\\n                &nbsp;&nbsp;&nbsp;\\n                <img src=\"/templates/jsp/_style2/_AP/images/openAccess.gif\" alt=\"Open access\" align=\"absbottom\" border=\"0\" />\\n                <span style=\"color:#808080;padding-right: 1px;font-weight: normal\">Open access</span>\\n                &nbsp;&nbsp;&nbsp;\\n                <img src=\"/templates/jsp/_style2/_AP/_pinnacle/_theme2/images/access_full.gif\" alt=\"Full access\" align=\"absbottom\" border=\"0\" />\\n                <span style=\"color:#808080;padding-right: 1px;font-weight: normal\">Full access</span>\\n                &nbsp;&nbsp;&nbsp;\\n                <img src=\"/templates/jsp/_style2/_AP/_pinnacle/_theme2/images/access_part.gif\" alt=\"Partial access\" align=\"absbottom\" border=\"0\" />\\n                <span style=\"color:#808080;padding-right: 1px;font-weight: normal\">Partial access</span>\\n                &nbsp;&nbsp;&nbsp;\\n                <img src=\"/templates/jsp/_style2/_AP/_pinnacle/_theme2/images/access_no.gif\" alt=\"No access\" align=\"absbottom\" border=\"0\" />\\n                <span style=\"color:#808080;padding-right: 1px;font-weight: normal\">No access</span>\\n            </td>\\n        </tr>\\n        <tr>\\n            <td nowrap=\"nowrap\"></td>\\n        </tr>\\n        <tr>\\n            <td nowrap=\"nowrap\"></td>\\n            <td nowrap=\"nowrap\"> &nbsp;&nbsp;&nbsp;</td>\\n        </tr>\\n    </table>\\n\\n\\n                   </div>\\n                   <div style=\"float:left\">\\n                        \\n\\n\\n\\n\\n<div id=\"tocContent\"><!--totalCount7--><!--modified:1499766598000--><h2 class=\"tocHeading\"><span class=\"subj-group\">Articles </span></h2><table border=\"0\" width=\"100%\" class=\"articleEntry\"><tr><td align=\"right\" valign=\"top\" width=\"18\" class=\"nowrap\">131</td><td align=\"right\" valign=\"top\" width=\"18\"><input type=\"checkbox\" name=\"doi\" value=\"10.17813/1086-671X-22-2-131\" /><br /></td><td valign=\"top\"><span class=\"hlFld-Title\"><div class=\"art_title\">ROUTING AROUND ORGANIZATIONS: SELF-DIRECTED POLITICAL CONSUMPTION</div></span><span class=\"hlFld-ContribAuthor\">Jennifer Earl</span>, <span class=\"hlFld-ContribAuthor\">Lauren Copeland</span> and <span class=\"hlFld-ContribAuthor\">Bruce Bimber</span><br /><a class=\"ref nowrap useQueryHash\" href=\"/doi/abs/10.17813/1086-671X-22-2-131\">Abstract</a>\\r\\n\\t\\t\\t| <a class=\"ref nowrap\" target=\"_blank\" title=\"Opens new window\" href=\"/doi/pdf/10.17813/1086-671X-22-2-131\">PDF (373 KB)</a>&nbsp;</td><td align=\"right\" valign=\"top\" width=\"18\"><img src=\"/templates/jsp/_style2/_AP/_pinnacle/_theme2/images/access_no.gif\" alt=\"No Access\" title=\"No Access\" class=\"accessIcon noAccess\" /></td></tr></table><table border=\"0\" width=\"100%\" class=\"articleEntry\"><tr><td align=\"right\" valign=\"top\" width=\"18\" class=\"nowrap\">155</td><td align=\"right\" valign=\"top\" width=\"18\"><input type=\"checkbox\" name=\"doi\" value=\"10.17813/1086-671X-22-2-155\" /><br /></td><td valign=\"top\"><span class=\"hlFld-Title\"><div class=\"art_title\">BRINGING THE FACTORY BACK IN: THE CRUMBLING OF CONSENT AND THE MOLDING OF COLLECTIVE CAPACITY AT WORK</div></span><span class=\"hlFld-ContribAuthor\">Ren\\xe9 Rojas</span><br /><a class=\"ref nowrap useQueryHash\" href=\"/doi/abs/10.17813/1086-671X-22-2-155\">Abstract</a>\\r\\n\\t\\t\\t| <a class=\"ref nowrap\" target=\"_blank\" title=\"Opens new window\" href=\"/doi/pdf/10.17813/1086-671X-22-2-155\">PDF (357 KB)</a>&nbsp;</td><td align=\"right\" valign=\"top\" width=\"18\"><img src=\"/templates/jsp/_style2/_AP/_pinnacle/_theme2/images/access_no.gif\" alt=\"No Access\" title=\"No Access\" class=\"accessIcon noAccess\" /></td></tr></table><table border=\"0\" width=\"100%\" class=\"articleEntry\"><tr><td align=\"right\" valign=\"top\" width=\"18\" class=\"nowrap\">177</td><td align=\"right\" valign=\"top\" width=\"18\"><input type=\"checkbox\" name=\"doi\" value=\"10.17813/1086-671X-22-2-177\" /><br /></td><td valign=\"top\"><span class=\"hlFld-Title\"><div class=\"art_title\">RESPONDING TO THE STREET: GOVERNMENT RESPONSES TO MASS PROTESTS IN DEMOCRACIES</div></span><span class=\"hlFld-ContribAuthor\">Alejandro Milc\\xedades Pe\\xf1a</span> and <span class=\"hlFld-ContribAuthor\">Thomas Richard Davies</span><br /><a class=\"ref nowrap useQueryHash\" href=\"/doi/abs/10.17813/1086-671X-22-2-177\">Abstract</a>\\r\\n\\t\\t\\t| <a class=\"ref nowrap\" target=\"_blank\" title=\"Opens new window\" href=\"/doi/pdf/10.17813/1086-671X-22-2-177\">PDF (1662 KB)</a>&nbsp;</td><td align=\"right\" valign=\"top\" width=\"18\"><img src=\"/templates/jsp/_style2/_AP/_pinnacle/_theme2/images/access_no.gif\" alt=\"No Access\" title=\"No Access\" class=\"accessIcon noAccess\" /></td></tr></table><table border=\"0\" width=\"100%\" class=\"articleEntry\"><tr><td align=\"right\" valign=\"top\" width=\"18\" class=\"nowrap\">201</td><td align=\"right\" valign=\"top\" width=\"18\"><input type=\"checkbox\" name=\"doi\" value=\"10.17813/1086-671X-22-2-201\" /><br /></td><td valign=\"top\"><span class=\"hlFld-Title\"><div class=\"art_title\">VOICING OUTRAGE UNEVENLY: DEMOCRATIC DISSATISFACTION, NONPARTICIPATION, AND PARTICIPATION FREQUENCY IN THE 15-M CAMPAIGN</div></span><span class=\"hlFld-ContribAuthor\">Mart\\xedn Portos</span> and <span class=\"hlFld-ContribAuthor\">Juan Masullo</span><br /><a class=\"ref nowrap useQueryHash\" href=\"/doi/abs/10.17813/1086-671X-22-2-201\">Abstract</a>\\r\\n\\t\\t\\t| <a class=\"ref nowrap\" target=\"_blank\" title=\"Opens new window\" href=\"/doi/pdf/10.17813/1086-671X-22-2-201\">PDF (730 KB)</a>&nbsp;</td><td align=\"right\" valign=\"top\" width=\"18\"><img src=\"/templates/jsp/_style2/_AP/_pinnacle/_theme2/images/access_no.gif\" alt=\"No Access\" title=\"No Access\" class=\"accessIcon noAccess\" /></td></tr></table><table border=\"0\" width=\"100%\" class=\"articleEntry\"><tr><td align=\"right\" valign=\"top\" width=\"18\" class=\"nowrap\">223</td><td align=\"right\" valign=\"top\" width=\"18\"><input type=\"checkbox\" name=\"doi\" value=\"10.17813/1086-671X-22-2-223\" /><br /></td><td valign=\"top\"><span class=\"hlFld-Title\"><div class=\"art_title\">WHAT IS TO BE DONE? AGENCY AND THE CAUSATION OF TRANSFORMATIVE EVENTS IN IRELAND\\'S 1916 RISING AND 1969 LONG MARCH</div></span><span class=\"hlFld-ContribAuthor\">Lorenzo Bosi</span> and <span class=\"hlFld-ContribAuthor\">Donagh Davis</span><br /><a class=\"ref nowrap useQueryHash\" href=\"/doi/abs/10.17813/1086-671X-22-2-223\">Abstract</a>\\r\\n\\t\\t\\t| <a class=\"ref nowrap\" target=\"_blank\" title=\"Opens new window\" href=\"/doi/pdf/10.17813/1086-671X-22-2-223\">PDF (307 KB)</a>&nbsp;</td><td align=\"right\" valign=\"top\" width=\"18\"><img src=\"/templates/jsp/_style2/_AP/_pinnacle/_theme2/images/access_no.gif\" alt=\"No Access\" title=\"No Access\" class=\"accessIcon noAccess\" /></td></tr></table><table border=\"0\" width=\"100%\" class=\"articleEntry\"><tr><td align=\"right\" valign=\"top\" width=\"18\" class=\"nowrap\">245</td><td align=\"right\" valign=\"top\" width=\"18\"><input type=\"checkbox\" name=\"doi\" value=\"10.17813/1086-671X-22-2-245\" /><br /></td><td valign=\"top\"><span class=\"hlFld-Title\"><div class=\"art_title\">WHY ONLY SOME LIFESTYLE ACTIVISTS AVOID STATE-ORIENTED POLITICS: A CASE STUDY IN THE BELGIAN ENVIRONMENTAL MOVEMENT</div></span><span class=\"hlFld-ContribAuthor\">Joost de Moor</span>, <span class=\"hlFld-ContribAuthor\">Sofie Marien</span> and <span class=\"hlFld-ContribAuthor\">Marc Hooghe</span><br /><a class=\"ref nowrap useQueryHash\" href=\"/doi/abs/10.17813/1086-671X-22-2-245\">Abstract</a>\\r\\n\\t\\t\\t| <a class=\"ref nowrap\" target=\"_blank\" title=\"Opens new window\" href=\"/doi/pdf/10.17813/1086-671X-22-2-245\">PDF (285 KB)</a>&nbsp;</td><td align=\"right\" valign=\"top\" width=\"18\"><img src=\"/templates/jsp/_style2/_AP/_pinnacle/_theme2/images/access_no.gif\" alt=\"No Access\" title=\"No Access\" class=\"accessIcon noAccess\" /></td></tr></table><h2 class=\"tocHeading\"><span class=\"subj-group\">Book Reviews </span></h2><table border=\"0\" width=\"100%\" class=\"articleEntry\"><tr><td align=\"right\" valign=\"top\" width=\"18\" class=\"nowrap\">265</td><td align=\"right\" valign=\"top\" width=\"18\"><input type=\"checkbox\" name=\"doi\" value=\"10.17813/1086-671X-22.2.265\" /><br /></td><td valign=\"top\"><span class=\"hlFld-Title\"><div class=\"art_title\">BOOK REVIEWS</div></span><span class=\"hlFld-ContribAuthor\">Deana A. Rohlinger</span><br /><a class=\"ref nowrap useQueryHash\" href=\"/doi/abs/10.17813/1086-671X-22.2.265\">Citation</a>\\r\\n\\t\\t\\t| <a class=\"ref nowrap\" target=\"_blank\" title=\"Opens new window\" href=\"/doi/pdf/10.17813/1086-671X-22.2.265\">PDF (167 KB)</a>&nbsp;</td><td align=\"right\" valign=\"top\" width=\"18\"><img src=\"/templates/jsp/_style2/_AP/_pinnacle/_theme2/images/access_no.gif\" alt=\"No Access\" title=\"No Access\" class=\"accessIcon noAccess\" /></td></tr></table></div>\\n<input type=\"hidden\" name=\"href\" value=\"/toc/maiq/22/2?code=hjdm-site\" />\\n\\n<input type=\"hidden\" name=\"mailPageTitle\" value=\"Table of Contents for Mobilization: An International Quarterly: Volume 22, Issue 2 &lt;br/&gt;(June 2017)\" />\\n\\n\\n                    </div>\\n        \\n        <img class=\"spacer\" src=\"/templates/jsp/images/singlePixel.gif\" />\\n    </div>\\n    <div class=\"panelFooter\">\\n        <div class=\"left\"></div>\\n        <div class=\"content\"></div>\\n        <div class=\"right\"></div>\\n    </div>\\n</div>\\n        </form>\\n        \\n        <span id=\"hide\"><a href=\"/doi/pdf/10.1046/9999-9999.99999\"><!-- Spider trap link --></a></span></div>\\n                    </td>\\n                    <td width=\"200\" class=\"bc\">\\n                        <div id=\"rightCol\">\\n\\n\\n\\n\\n\\n\\n\\n\\n\\n\\n\\n\\n\\n\\n\\n\\n\\n\\n\\n\\n\\n\\n\\n\\n\\n\\n<div class=\"panel_228\" id=\"journalNavPanel\">\\n    <div class=\"panelHeading\">\\n        <div class=\"left\"></div>\\n        <div class=\"content\">\\n            \\n            \\n                    <h3>Volume 22, Issue 2 <br/>(June 2017)</h3>\\n                \\n            \\n        </div>\\n        <div class=\"right\"></div>\\n    </div>\\n    <div class=\"panelBody\">\\n        \\n            <div id=\"nextprev\">\\n                \\n                    <a href=\"/toc/maiq/22/1\">\\n                        &lt; Previous\\n                    </a>\\n                \\n                \\n            </div><br/>\\n        \\n        <div id=\"smallIssueCover\">\\n            \\n                    <a href=\"/loi/maiq\">\\n                    <img src=\"/na101/home/literatum/publisher/pinnacle/journals/covergifs/maiq/cover.jpg\" /><br/>\\n                </a>\\n                \\n            \\n        </div>\\n\\n        \\n\\n\\n\\n\\n\\n\\n<div>\\n    <!-- File is left blank intentionally. -->\\n</div>\\n<br/>\\n\\n\\n\\n    \\n        \\n\\n\\n\\n\\n        <a href=\"/toc/maiq/22/2\">\\n            Current Issue\\n        </a><br/>\\n    \\n    \\n\\n\\n\\n\\n<a href=\"/loi/maiq\">\\n    Available Issues\\n</a><br/>\\n\\n\\n\\n    \\n\\n\\n<div>\\n\\n</div>\\n\\n\\n\\n    \\n\\n\\n\\n\\n\\n\\n\\n\\n\\n\\n        \\n        <img class=\"spacer\" src=\"/templates/jsp/images/singlePixel.gif\" />\\n    </div>\\n    <div class=\"panelFooter\">\\n        <div class=\"left\"></div>\\n        <div class=\"content\"></div>\\n        <div class=\"right\"></div>\\n    </div>\\n</div>\\n\\n\\n\\n\\n\\n\\n\\n\\n<div class=\"panel_228\">\\n    <div class=\"panelHeading\">\\n        <div class=\"left\"></div>\\n        <div class=\"content\">\\n            <h3>Alerts for the Journal</h3>\\n        </div>\\n        <div class=\"right\"></div>\\n    </div>\\n    <div class=\"panelBody\">\\n        Click\\n        \\n        <a href=\"#\" class=\"subscribe-anchor\" >here</a>\\n        to get an email alert for every new issue of <br/> <h3>Mobilization: An International Quarterly</h3>\\n    </div>\\n    <div class=\"panelFooter\">\\n        <div class=\"left\"></div>\\n        <div class=\"content\"></div>\\n        <div class=\"right\"></div>\\n    </div>\\n</div>\\n\\n\\n<div class=\"subscribe-wrapper\">\\n    <span class=\"close-log\">X</span>\\n    <div class=\"subscribe-form\">\\n        \\n\\n\\n<form action=\"/action/doSubscribe\" name=\"emailSubscribe\" method=\"post\"><label class=\"subscribe-form-2-label\">\\n        Email Address:\\n    </label>\\n    <input type=\"email\" name=\"email\" autoFocus=\"autofocus\"  class=\"subscribe-form-2\" required/>\\n    <br><br/>\\n    <input type=\"hidden\" value=\"true\" name=\"fromsubscribe\"/>\\n    <input type=\"hidden\" value=\"addJournal\" name=\"action\"/>\\n    <input type=\"hidden\" value=\"maiq\" name=\"journalCode\"/>\\n    <input type=\"hidden\" value=\"/toc/maiq/22/2?code=hjdm-site\" name=\"referrer\"/>\\n    <input class=\"subscribe-form-2\" type=\"submit\" value=\"Subscribe\"/></form>\\n    </div>\\n</div>\\n\\n<script type=\"text/javascript\">\\n    $(\\'.subscribe-anchor\\').click(function(e){\\n        $(\\'.subscribe-wrapper\\').slideToggle();\\n        e.preventDefault();\\n    });\\n    $(\\'.close-log\\').click(function() {\\n        $(\\'.subscribe-wrapper\\').slideToggle();\\n    });\\n    $(document).keyup(function(e) {\\n        if(e.which == 27){\\n            if($(\\'.subscribe-wrapper\\').css(\"display\") != \\'none\\') {\\n                $(\\'.subscribe-wrapper\\').slideToggle();\\n            }\\n        }\\n    });\\n</script>\\n\\n\\n\\n\\n\\n        <!-- placeholder id=null, description=Journal Message Right 1 -->\\n    \\n\\n\\n\\n\\n\\n\\n\\n\\n\\n\\n\\n \\n\\n\\n\\n\\n\\n\\n\\n    \\n        \\n    \\n\\n\\n\\n\\n\\n\\n\\n\\n<div class=\"panel_228\" id=\"journalInfoPanel\">\\n    <div class=\"panelHeading\">\\n        <div class=\"left\"></div>\\n        <div class=\"content\">\\n            \\n            \\n                    \\n                        <h3>Journal Information</h3>\\n                    \\n                \\n            \\n        </div>\\n        <div class=\"right\"></div>\\n    </div>\\n    <div class=\"panelBody\">\\n        \\n            <table class=\"mceItemTable\">\\r\\n    <tbody>\\r\\n        <tr>\\r\\n            <td><b>ISSN:</b></td>\\r\\n            <td>1086-671X</td>\\r\\n        </tr>\\r\\n        <tr>\\r\\n            <td><b>Frequency:</b></td>\\r\\n            <td>Quarterly</td>\\r\\n        </tr>\\r\\n        <tr>\\r\\n            <td><b>RSS Feed:</b><br /><a href=\"/page/rss\">(What is this?)</a></td>\\r\\n            <td><a href=\"/action/showFeed?type=etoc&amp;feed=rss&amp;jc=maiq\"><img title=\"RSS TOC Feed\" alt=\"rrs icon\" src=\"/userimages/ContentEditor/1422297266654/Rss-icon_24px.png\" /></a></td>\\r\\n        </tr>\\r\\n    </tbody>\\r\\n</table>\\n        \\n        \\n        <img class=\"spacer\" src=\"/templates/jsp/images/singlePixel.gif\" />\\n    </div>\\n    <div class=\"panelFooter\">\\n        <div class=\"left\"></div>\\n        <div class=\"content\"></div>\\n        <div class=\"right\"></div>\\n    </div>\\n</div>\\n\\n\\n\\n\\n\\n\\n\\n\\n\\n \\n\\n\\n\\n\\n\\n\\n\\n    \\n        \\n    \\n\\n\\n\\n\\n\\n\\n\\n\\n<div class=\"panel_228\" id=\"registerPanel\">\\n    <div class=\"panelHeading\">\\n        <div class=\"left\"></div>\\n        <div class=\"content\">\\n            \\n            \\n                    \\n                        <h3>Register for a Profile</h3>\\n                    \\n                \\n            \\n        </div>\\n        <div class=\"right\"></div>\\n    </div>\\n    <div class=\"panelBody\">\\n        \\n        <p><b>Not Yet Registered?</b></p><p style=\"text-align:center;\"><i>Benefits of Registration Include: </i></p><ul>    <li>A Unique User Profile that will allow you to manage your current subscriptions (including online access)</li>    <li>The ability to create favorites lists down to the article level</li>    <li>The ability to customize email alerts to receive specific notifications about the topics you care most about and special offers</li></ul><p><a href=\"/action/registration\"><b>Register Now!</b></a><br /></p>\\n        \\n        \\n        <img class=\"spacer\" src=\"/templates/jsp/images/singlePixel.gif\" />\\n    </div>\\n    <div class=\"panelFooter\">\\n        <div class=\"left\"></div>\\n        <div class=\"content\"></div>\\n        <div class=\"right\"></div>\\n    </div>\\n</div>\\n\\n\\n\\n\\n\\n\\n        <!-- placeholder id=null, description=Journal Message Right 2 -->\\n    \\n\\n\\n\\n\\n\\n\\n\\n\\n\\n        <!-- placeholder id=null, description=Journal Message Right 3 -->\\n    \\n\\n\\n\\n</div>\\n                    </td>\\n                </tr>\\n            </tbody>\\n        </table>\\n        </div>\\n        <div class=\"clearfix\">&nbsp;</div>\\n    </div>\\n    <div id=\"footer\">\\n        \\n\\n\\n\\n\\n<div id=\"linkToTop\">    <a href=\"#pageTop\">        <img src=\"/templates/jsp/_style2/_AP/_pinnacle/images/link_top.gif\" />    </a><br /></div><div id=\"footerCopy\">    <hr /><p style=\"text-align: center;\">    Published by <a href=\"mailto:mobilization@unc.edu\" target=\"_blank\">Mobilization</a><br />    Copyright &copy; 2017 Mobilization. All rights reserved.</p></div>\\n    </div>\\n</div>\\n\\r\\n\\r\\n\\r\\n    \\r\\n\\n</body>\\n</html>\\n\\n\\n\\n'"
      ]
     },
     "execution_count": 14,
     "metadata": {},
     "output_type": "execute_result"
    }
   ],
   "source": [
    "page.text"
   ]
  },
  {
   "cell_type": "code",
   "execution_count": 15,
   "metadata": {
    "collapsed": true,
    "slideshow": {
     "slide_type": "slide"
    }
   },
   "outputs": [],
   "source": [
    "from IPython.display import HTML"
   ]
  },
  {
   "cell_type": "code",
   "execution_count": 16,
   "metadata": {
    "slideshow": {
     "slide_type": "fragment"
    }
   },
   "outputs": [
    {
     "data": {
      "text/html": [
       "\n",
       "\n",
       "\n",
       "\n",
       "\n",
       "\n",
       "\n",
       "\n",
       "\n",
       "\n",
       "\n",
       "\n",
       "\n",
       "\n",
       "\n",
       "\n",
       "\n",
       "\n",
       "\n",
       "\n",
       "\n",
       "\n",
       "        \n",
       "\n",
       "        \n",
       "                \n",
       "                \n",
       "                \n",
       "                    \n",
       "                    \n",
       "                        \n",
       "                                \n",
       "                            \n",
       "                        \n",
       "                        \n",
       "                    \n",
       "                \n",
       "            \n",
       "        \n",
       "                \n",
       "            \n",
       "    \n",
       "\n",
       "\n",
       "\n",
       "\n",
       "\n",
       "\n",
       "\n",
       "\n",
       "\n",
       "\n",
       "<!DOCTYPE html PUBLIC \"-//W3C//DTD XHTML 1.0 Transitional//EN\" \"http://www.w3.org/TR/xhtml1/DTD/xhtml1-transitional.dtd\">\n",
       "\n",
       "\n",
       "\n",
       "<html xmlns=\"http://www.w3.org/1999/xhtml\" xml:lang=\"en-US\" lang=\"en-US\">\n",
       "<head>\n",
       "    \n",
       "\n",
       "\n",
       "\n",
       "\n",
       "\n",
       "\n",
       "<title>\n",
       "    \n",
       "            Mobilization: An International Quarterly\n",
       "            -\n",
       "            \n",
       "                    Journal - Table of Contents\n",
       "                \n",
       "        \n",
       "</title>\n",
       "\n",
       "    <meta http-equiv=\"Content-Type\" content=\"text/html; charset=UTF-8\" />\n",
       "    \n",
       "<meta name=\"robots\" content=\"noarchive\" />\n",
       "\n",
       "\n",
       "\n",
       "\n",
       "\n",
       "\n",
       "\n",
       "\n",
       "\n",
       "\n",
       "<meta name=\"MSSmartTagsPreventParsing\" content=\"true\"/>\n",
       "\n",
       "\n",
       "\n",
       "\n",
       "    \n",
       "    \n",
       "    <script>\n",
       "        (function(i,s,o,g,r,a,m){i['GoogleAnalyticsObject']=r;i[r]=i[r]||function(){\n",
       "            (i[r].q=i[r].q||[]).push(arguments)},i[r].l=1*new Date();a=s.createElement(o),\n",
       "                m=s.getElementsByTagName(o)[0];a.async=1;a.src=g;m.parentNode.insertBefore(a,m)\n",
       "        })(window,document,'script','//www.google-analytics.com/analytics.js','ga');\n",
       "\n",
       "        ga('create', 'UA-60157750-4', 'auto');\n",
       "        ga('send', 'pageview');\n",
       "    </script>\n",
       "\n",
       "\n",
       "\n",
       "\n",
       "\n",
       "\n",
       "\n",
       "\n",
       "\n",
       "    \n",
       "\n",
       "    \n",
       "\n",
       "\n",
       "\n",
       "\n",
       "\n",
       "    \n",
       "    \n",
       "    \n",
       "    <!-- multiple js libraries should be removed once the refactorting from prototype to jquery is complete -->\n",
       "    \n",
       "    <link href=\"/templates/jsp/style.css\" rel=\"stylesheet\" type=\"text/css\" />\n",
       "<link href=\"/templates/jsp/_style2/style.css\" rel=\"stylesheet\" type=\"text/css\" />\n",
       "<link href=\"/templates/jsp/_style2/_AP/style.css\" rel=\"stylesheet\" type=\"text/css\" />\n",
       "<link href=\"/templates/jsp/_style2/_AP/_pinnacle/style.css\" rel=\"stylesheet\" type=\"text/css\" />\n",
       "<link href=\"/templates/jsp/_style2/_AP/css/global.css\" rel=\"stylesheet\" type=\"text/css\" />\n",
       "<link href=\"/templates/jsp/_style2/_AP/_pinnacle/_theme2/css/global.product.css\" rel=\"stylesheet\" type=\"text/css\" />\n",
       "<link href=\"/templates/jsp/_style2/_AP/_pinnacle/css/pinnacle.css\" rel=\"stylesheet\" type=\"text/css\" />\n",
       "<link href=\"/templates/jsp/_style2/_AP/css/widgets.css\" rel=\"stylesheet\" type=\"text/css\" />\n",
       "<link href=\"/templates/jsp/_style2/_AP/_pinnacle/_theme2/css/widgets.product.css\" rel=\"stylesheet\" type=\"text/css\" />\n",
       "<link href=\"/templates/jsp/_style2/_AP/css/headfoot.css\" rel=\"stylesheet\" type=\"text/css\" />\n",
       "<link href=\"/templates/jsp/_style2/_AP/_pinnacle/_theme2/css/headfoot.product.css\" rel=\"stylesheet\" type=\"text/css\" />\n",
       "<link href=\"/templates/jsp/_style2/_AP/css/browse.css\" rel=\"stylesheet\" type=\"text/css\" />\n",
       "<link href=\"/templates/jsp/_style2/_AP/_pinnacle/_theme2/css/browse.product.css\" rel=\"stylesheet\" type=\"text/css\" />\n",
       "\n",
       "    <!--[if lt IE 8]>\n",
       "    <link href=\"/templates/jsp/_style2/_AP/css/ie.css\" rel=\"stylesheet\" type=\"text/css\"/>\n",
       "    <link href=\"/templates/jsp/_style2/_AP/_pinnacle/css/ie.product.css\" rel=\"stylesheet\" type=\"text/css\"/>\n",
       "    <![endif]-->\n",
       "    <!--[if IE 6]><link href=\"/templates/jsp/_style2/_AP/css/ie6.css\" rel=\"stylesheet\" type=\"text/css\"/><![endif]-->\n",
       "    <script type=\"text/javascript\"  src=\"/templates/jsp/_style2/_AP/_pinnacle/js/jquery.js\"></script>\n",
       "<script type=\"text/javascript\"  src=\"/templates/jsp/script.js\"></script>\n",
       "<script type=\"text/javascript\"  src=\"/templates/jsp/_style2/script.js\"></script>\n",
       "<script type=\"text/javascript\"  src=\"/templates/jsp/_style2/_AP/script.js\"></script>\n",
       "<script type=\"text/javascript\"  src=\"/templates/jsp/js/behaviour.js\"></script>\n",
       "<script type=\"text/javascript\"  src=\"/templates/jsp/js/behaviourRules.js\"></script>\n",
       "\n",
       "    \n",
       "\n",
       "\n",
       "<style type=\"text/css\">\n",
       "div#headerTopContainer {\n",
       "    background:url(/userimages/ContentEditor/1425330507088/HJDM_navbar.png);\n",
       "    background-color: #CBCCCD;\n",
       "    padding: 0 0;\n",
       "}\n",
       "\n",
       "#journalMenu ul ul {\n",
       "    background:#a3a3a3;\n",
       "}\n",
       "\n",
       "#journalMenu li:hover,\n",
       "  #journalMenu li:hover h2 {\n",
       "  background:#c1c1c1 !important;\n",
       "}\n",
       "\n",
       "#journalMenu h2 a {\n",
       "    font-size:10pt;\n",
       "    font-family:Verdana;\n",
       "    color:#434343;\n",
       "}\n",
       "\n",
       "#journalMenu ul ul {\n",
       "    background:#a3a3a3;\n",
       "}\n",
       "\n",
       "div#journalMenu ul li:hover ul a,\n",
       "  div#journalMenu ul ul li:hover ul a,\n",
       "  div#journalMenu ul ul ul li:hover ul a {\n",
       "    font-size:10pt;\n",
       "    font-family:Verdana;\n",
       "    color:#ffffff;\n",
       "}\n",
       "\n",
       ".panelHeading, .panelFooter {\n",
       "    background-color:#a4a4a4;\n",
       "    color:#000000;\n",
       "}\n",
       "\n",
       "div.panelBody {\n",
       "    background-color:#dddddd;\n",
       "    border-color:#a4a4a4;\n",
       "    border-width: 0 1px 0 1px;\n",
       "    border-style: solid;\n",
       "}\n",
       "\n",
       ".panelHeading .right {\n",
       "    background-image: url('/templates/jsp/_style2/_AP/_pinnacle/images/curve_right_top2.png');\n",
       "}\n",
       "\n",
       ".panelHeading .left {\n",
       "    background-image: url('/templates/jsp/_style2/_AP/_pinnacle/images/curve_left_top.png');\n",
       "}\n",
       "\n",
       ".panelFooter .right {\n",
       "    background-image: url('/templates/jsp/_style2/_AP/_pinnacle/images/curve_right_bottom.png');\n",
       "}\n",
       "\n",
       ".panelFooter .left {\n",
       "    background-image: url('/templates/jsp/_style2/_AP/_pinnacle/images/curve_left_bottom.png');\n",
       "}\n",
       "</style>\n",
       "\n",
       "\n",
       "<style type=\"text/css\">\n",
       "div.panelTopRight {\n",
       "background-image:url(/templates/jsp/_style2/_AP/_pinnacle/images/curve_right_top2.png);\n",
       "background-repeat:no-repeat;\n",
       "}\n",
       "div.panelBottomLeft {\n",
       "background-image:url(/templates/jsp/_style2/_AP/_pinnacle/images/curve_left_bottom.png);\n",
       "background-repeat:no-repeat;\n",
       "}\n",
       "div.panelTopLeft {\n",
       "background-image:url(/templates/jsp/_style2/_AP/_pinnacle/images/curve_left_top.png);\n",
       "background-repeat:no-repeat;\n",
       "}\n",
       "div.panelBottomRight {\n",
       "background-image:url(/templates/jsp/_style2/_AP/_pinnacle/images/curve_right_bottom.png);\n",
       "background-repeat:no-repeat;\n",
       "}\n",
       "div#articleNavLinks {\n",
       "\n",
       "margin-right:0.5em;\n",
       "}\n",
       "</style>\n",
       "    \n",
       "\n",
       "\n",
       "\n",
       "\n",
       "\n",
       "</head>\n",
       "<body class=\"clearfix\">\n",
       "<div id=\"container\">\n",
       "    \n",
       "\n",
       "\n",
       "\n",
       "\n",
       "\n",
       "\n",
       "\n",
       "\n",
       "\n",
       "\n",
       "\n",
       "\n",
       "    <div id=\"header\">\n",
       "        \n",
       "                \n",
       "\n",
       "\n",
       "<a name=\"pageTop\"></a>\n",
       " \n",
       "\n",
       "\n",
       "\n",
       "\n",
       "\n",
       "\n",
       "\n",
       "\n",
       "\n",
       "\n",
       "<div id=\"identity-bar\">\n",
       "    <!-- placeholder id=null, description=Header - Mobile Button -->\n",
       "\n",
       "    \n",
       "        \n",
       "        <span id=\"institution-banner-text\">\n",
       "            \n",
       "        </span>\n",
       "        \n",
       "    \n",
       "\n",
       "    <span id=\"individual-menu\">\n",
       "        \n",
       "\n",
       "        \n",
       "                \n",
       "                \n",
       "                <a href=\"https://pinnacle-secure.allenpress.com/action/showLogin?code=HJDM-site&amp;uri=%2Ftoc%2Fmaiq%2F22%2F2%3Fcode%3Dhjdm-site\">\n",
       "                    Log In\n",
       "                </a>\n",
       "                &nbsp;|&nbsp;\n",
       "                <a href=\"https://pinnacle-secure.allenpress.com/action/registration?code=HJDM-site\">\n",
       "                    Register\n",
       "                </a>\n",
       "            \n",
       "        \n",
       "        \n",
       "            &nbsp;|&nbsp;\n",
       "            <a href=\"/help\">\n",
       "                Help\n",
       "            </a>\n",
       "        \n",
       "        &nbsp;|&nbsp;\n",
       "        \n",
       "        <a href=\"https://pinnacle-secure.allenpress.com/action/showCart?code=HJDM-site\">Cart </a>\n",
       "    </span>\n",
       "</div>\n",
       "<div id=\"headerAds\">\n",
       "    <!-- placeholder id=null, description=Header Message 1 -->\n",
       "    <!-- placeholder id=null, description=Header Message 2 -->\n",
       "    \n",
       "    \n",
       "</div>\n",
       "\n",
       "\n",
       "\n",
       "\n",
       "\n",
       "\n",
       "\n",
       "    <img src=\"/userimages/1314156/banner\" alt=\"Hank Johnston DBA Mobilization Journal\" width=\"980\" />\n",
       "    \n",
       "\n",
       "<div class=\"headerContainer\" id=\"headerTopContainer\">\n",
       "     <div id=\"journalMenu\">         \n",
       "            \n",
       "\n",
       "\n",
       "<ul><li class=\"first\"><h2><a href=\"/?code=hjdm-site\">&emsp; HOME &emsp;</a></h2>\n",
       "</li>\n",
       "</ul><ul><li><h2><a href=\"/loi/maiq?code=hjdm-site\">&emsp; CONTENT &emsp;</a></h2>\n",
       "</li>\n",
       "</ul><ul><li class=\"hasSubmenu\"><h2><a href=\"/page/about?code=hjdm-site\">&emsp; ABOUT &emsp;</a></h2>\n",
       "<ul><li class=\"first\"><a href=\"/action/ecommerce?code=hjdm-site\">Subscribe</a></li>\n",
       "<li><a href=\"https://mobilization.scholasticahq.com/for-authors\" target=\"_blank\">Submit</a></li>\n",
       "<li class=\"last\"><a href=\"https://mobilization.scholasticahq.com/\" target=\"_blank\">Contact</a></li>\n",
       "</ul>\n",
       "</li>\n",
       "</ul><ul><li class=\"last\"><h2><a href=\"/help?code=hjdm-site\">&emsp; HELP &emsp;</a></h2>\n",
       "</li>\n",
       "</ul>       \n",
       "    </div>\n",
       "    <ul id=\"quickSearchBox\">\n",
       "        <li>\n",
       "            \n",
       "\n",
       "\n",
       "\n",
       "\n",
       "<form action=\"/action/doSearch\" name=\"simpleQuickSearchForm1\" method=\"get\"><input id=\"searchQuery\" type=\"text\" name=\"AllField\" value=\"\" size=\"18\" onfocus=\"this.value='';\" placeholder=\"Quick Search\" />\n",
       "    \n",
       "    \n",
       "    <input onclick=\"javascript:checkQuickSearchInput(document.simpleQuickSearchForm1,'Quick Search');return false;\" id=\"gosearch\" type=\"submit\" value=\"\" alt=\"Search\" /></form>\n",
       "        </li>\n",
       "    </ul>\n",
       "</div>\n",
       "\n",
       "    <div id=\"breadcrumbs\">\n",
       "        <table class=\"headerBreadcrumbs\">\n",
       "            <tr>\n",
       "                <td>\n",
       "                    \n",
       "\n",
       "\n",
       "\n",
       "\n",
       "\n",
       "    <a href=\"/\">Home</a>\n",
       "    \n",
       "        &gt;\n",
       "        \n",
       "                <a href=\"/loi/maiq\">\n",
       "                    Mobilization: An International Quarterly\n",
       "                </a>\n",
       "            \n",
       "    \n",
       "        &gt;\n",
       "        \n",
       "                June 2017\n",
       "            \n",
       "    \n",
       "\n",
       "\n",
       "\n",
       "                </td>\n",
       "                <td class=\"headerAdvancedSearch\">\n",
       "                    <a href=\"/search/advanced\">Advanced Search</a>\n",
       "                    <!-- placeholder id=null, description=Google Translator Widget -->\n",
       "                </td>\n",
       "            </tr>\n",
       "        </table>\n",
       "    </div>\n",
       "\n",
       "\n",
       "            \n",
       "    </div>\n",
       "    <div id=\"content\">\n",
       "        <div class=\"panelContent\">\n",
       "            <table cellspacing=\"0\" cellpadding=\"0\" border=\"0\" width=\"980\">\n",
       "            <tbody>\n",
       "                <tr valign=\"top\">\n",
       "                    <!-- Left Nav-->\n",
       "                    <!-- Custom Nav links -->\n",
       "                    <td width=\"228\">\n",
       "                        <div id=\"leftCol\">\n",
       "\n",
       "\n",
       "\n",
       "\n",
       "\n",
       "\n",
       "\n",
       "<ul id=\"customLinks\">        <li style=\"border:1px solid #691a1a !important;\"><a href=\"/action/ecommerce\">Subscribe</a><br /></li><li style=\"border:1px solid #691a1a !important;\"><a href=\"https://mobilization.scholasticahq.com/for-authors\" target=\"_blank\">Submit</a><br /></li><li style=\"border:1px solid #691a1a !important;\"><a href=\"https://mobilization.scholasticahq.com/\" target=\"_blank\">Contact</a><br /></li>    </ul>\n",
       "\n",
       "\n",
       "\n",
       "\n",
       "\n",
       "        <!-- placeholder id=null, description=Journal Message 1 -->\n",
       "    \n",
       "\n",
       "\n",
       "\n",
       "\n",
       "\n",
       "\n",
       "\n",
       "\n",
       "\n",
       "        <!-- placeholder id=null, description=Journal Message 2 -->\n",
       "    \n",
       "\n",
       "\n",
       "\n",
       "\n",
       "\n",
       "\n",
       "\n",
       "\n",
       "\n",
       "        <!-- placeholder id=null, description=Journal Message 3 -->\n",
       "    \n",
       "\n",
       "\n",
       "\n",
       "\n",
       "\n",
       "\n",
       "\n",
       "\n",
       "        <!-- placeholder id=null, description=Journal Message 4 -->\n",
       "    \n",
       "\n",
       "\n",
       "\n",
       "\n",
       "\n",
       "\n",
       "\n",
       "\n",
       "        <!-- placeholder id=null, description=Journal Message 5 -->\n",
       "    \n",
       "\n",
       "\n",
       "</div>\n",
       "                    </td>\n",
       "                    <td class=\"bc\">\n",
       "                        <div id=\"middleCol\"><form name=\"frmAbs\" action=\"\">\n",
       "            \n",
       "\n",
       "\n",
       "\n",
       "\n",
       "\n",
       "\n",
       "\n",
       "\n",
       "\n",
       "\n",
       "    \n",
       "        <div class=\"article_tools\">\n",
       "            \n",
       "\n",
       "\n",
       "\n",
       "\n",
       "\n",
       "<div id=\"articleNavLinks\">\n",
       "    <table cellspacing=\"10\" cellpadding=\"0\" border=\"0\" id=\"Table9\" class=\"bc\" align=\"center\" valign=\"middle\">\n",
       "        <tbody>\n",
       "        <tr>\n",
       "            \n",
       "            <td>\n",
       "                <div id=\"articleToolsHeading\">\n",
       "                    \n",
       "\n",
       "\n",
       "\n",
       "\n",
       "\n",
       "    \n",
       "\n",
       "                    \n",
       "\n",
       "                    \n",
       "                            Volume 22, Issue 2 <br/>(June 2017)\n",
       "                                        \n",
       "\n",
       "\n",
       "\n",
       "\n",
       "\n",
       "<div class=\"issueEditor\"></div>\n",
       "                        \n",
       "                </div>\n",
       "            </td>\n",
       "            \n",
       "        </tr>\n",
       "        </tbody>\n",
       "    </table>\n",
       "</div>\n",
       "\n",
       "            \n",
       "        \n",
       "\n",
       "\n",
       "\n",
       "\n",
       "    \n",
       "\n",
       "\n",
       "\n",
       "\n",
       "<ul id=\"toolsList\">\n",
       "    \n",
       "    \n",
       "        <li id=\"showAbs\">\n",
       "            <a href=\"javascript:submitArticles(document.frmAbs, '/action/showMultipleAbstracts')\">\n",
       "                View Abstracts\n",
       "            </a>\n",
       "        </li>\n",
       "        <li class=\"divider\">|</li>\n",
       "    \n",
       "    <li id=\"addToFavs\">\n",
       "        \n",
       "        <a href=\"javascript:submitArticles(document.frmAbs, '/personalize/addFavoritePublication')\">Add to Favorites</a>\n",
       "    </li>\n",
       "    <li class=\"divider\">|</li>\n",
       "    <li id=\"emailArt\">\n",
       "        \n",
       "        <a href=\"javascript:submitArticles(document.frmAbs, '/action/showMailPage')\">Share Article</a>\n",
       "    </li>\n",
       "    <li class=\"divider wbr\">|</li>\n",
       "    <li id=\"downloadCit\">\n",
       "        \n",
       "        <a href=\"javascript:submitArticles(document.frmAbs, '/action/showCitFormats')\">Export Citations</a>\n",
       "    </li>\n",
       "    <li class=\"divider\">|</li>\n",
       "    <li id=\"trackCit\"  title=\"Track Citations shows articles citing this article. You may also sign up to receive an alert when this article is cited in the future via RSS feed.\">\n",
       "        \n",
       "        \n",
       "        Track Citations (<a href=\"/action/addCitationRss?doi=10.17813%2F1086671X-22.2\">RSS</a> | <a href=\"/action/addCitationAlert?doi=10.17813%2F1086671X-22.2&referrer=%2Ftoc%2Fmaiq%2F22%2F2%3Fcode%3Dhjdm-site\">Email</a>)\n",
       "    </li>\n",
       "    \n",
       "</ul>\n",
       "        \n",
       "        </div>\n",
       "    \n",
       "\n",
       "            \n",
       "\n",
       "\n",
       "\n",
       "\n",
       "\n",
       "<div class=\"panel_100p\" id=\"tocPanel\">\n",
       "    <div class=\"panelHeading\">\n",
       "        <div class=\"left\"></div>\n",
       "        <div class=\"content\">\n",
       "            &nbsp;\n",
       "        </div>\n",
       "        <div class=\"right\"></div>\n",
       "    </div>\n",
       "    <div class=\"panelBody\">\n",
       "        <div id=\"marker\">\n",
       "                        <input type=\"checkbox\" name=\"markall\" id=\"markall\" onclick=\"onClickMarkAll(frmAbs)\"/>\n",
       "                        <label for=\"markall\">Select All</label>\n",
       "                    </div>\n",
       "                   <div style=\"float:right\">\n",
       "                       \n",
       "\n",
       "\n",
       "\n",
       "\n",
       "\n",
       "    \n",
       "    <table summary=\"\">\n",
       "        <tr>\n",
       "            <td nowrap=\"nowrap\"></td>\n",
       "            <td nowrap=\"nowrap\">\n",
       "                &nbsp;&nbsp;&nbsp;\n",
       "                <img src=\"/templates/jsp/_style2/_AP/images/openAccess.gif\" alt=\"Open access\" align=\"absbottom\" border=\"0\" />\n",
       "                <span style=\"color:#808080;padding-right: 1px;font-weight: normal\">Open access</span>\n",
       "                &nbsp;&nbsp;&nbsp;\n",
       "                <img src=\"/templates/jsp/_style2/_AP/_pinnacle/_theme2/images/access_full.gif\" alt=\"Full access\" align=\"absbottom\" border=\"0\" />\n",
       "                <span style=\"color:#808080;padding-right: 1px;font-weight: normal\">Full access</span>\n",
       "                &nbsp;&nbsp;&nbsp;\n",
       "                <img src=\"/templates/jsp/_style2/_AP/_pinnacle/_theme2/images/access_part.gif\" alt=\"Partial access\" align=\"absbottom\" border=\"0\" />\n",
       "                <span style=\"color:#808080;padding-right: 1px;font-weight: normal\">Partial access</span>\n",
       "                &nbsp;&nbsp;&nbsp;\n",
       "                <img src=\"/templates/jsp/_style2/_AP/_pinnacle/_theme2/images/access_no.gif\" alt=\"No access\" align=\"absbottom\" border=\"0\" />\n",
       "                <span style=\"color:#808080;padding-right: 1px;font-weight: normal\">No access</span>\n",
       "            </td>\n",
       "        </tr>\n",
       "        <tr>\n",
       "            <td nowrap=\"nowrap\"></td>\n",
       "        </tr>\n",
       "        <tr>\n",
       "            <td nowrap=\"nowrap\"></td>\n",
       "            <td nowrap=\"nowrap\"> &nbsp;&nbsp;&nbsp;</td>\n",
       "        </tr>\n",
       "    </table>\n",
       "\n",
       "\n",
       "                   </div>\n",
       "                   <div style=\"float:left\">\n",
       "                        \n",
       "\n",
       "\n",
       "\n",
       "\n",
       "<div id=\"tocContent\"><!--totalCount7--><!--modified:1499766598000--><h2 class=\"tocHeading\"><span class=\"subj-group\">Articles </span></h2><table border=\"0\" width=\"100%\" class=\"articleEntry\"><tr><td align=\"right\" valign=\"top\" width=\"18\" class=\"nowrap\">131</td><td align=\"right\" valign=\"top\" width=\"18\"><input type=\"checkbox\" name=\"doi\" value=\"10.17813/1086-671X-22-2-131\" /><br /></td><td valign=\"top\"><span class=\"hlFld-Title\"><div class=\"art_title\">ROUTING AROUND ORGANIZATIONS: SELF-DIRECTED POLITICAL CONSUMPTION</div></span><span class=\"hlFld-ContribAuthor\">Jennifer Earl</span>, <span class=\"hlFld-ContribAuthor\">Lauren Copeland</span> and <span class=\"hlFld-ContribAuthor\">Bruce Bimber</span><br /><a class=\"ref nowrap useQueryHash\" href=\"/doi/abs/10.17813/1086-671X-22-2-131\">Abstract</a>\r\n",
       "\t\t\t| <a class=\"ref nowrap\" target=\"_blank\" title=\"Opens new window\" href=\"/doi/pdf/10.17813/1086-671X-22-2-131\">PDF (373 KB)</a>&nbsp;</td><td align=\"right\" valign=\"top\" width=\"18\"><img src=\"/templates/jsp/_style2/_AP/_pinnacle/_theme2/images/access_no.gif\" alt=\"No Access\" title=\"No Access\" class=\"accessIcon noAccess\" /></td></tr></table><table border=\"0\" width=\"100%\" class=\"articleEntry\"><tr><td align=\"right\" valign=\"top\" width=\"18\" class=\"nowrap\">155</td><td align=\"right\" valign=\"top\" width=\"18\"><input type=\"checkbox\" name=\"doi\" value=\"10.17813/1086-671X-22-2-155\" /><br /></td><td valign=\"top\"><span class=\"hlFld-Title\"><div class=\"art_title\">BRINGING THE FACTORY BACK IN: THE CRUMBLING OF CONSENT AND THE MOLDING OF COLLECTIVE CAPACITY AT WORK</div></span><span class=\"hlFld-ContribAuthor\">René Rojas</span><br /><a class=\"ref nowrap useQueryHash\" href=\"/doi/abs/10.17813/1086-671X-22-2-155\">Abstract</a>\r\n",
       "\t\t\t| <a class=\"ref nowrap\" target=\"_blank\" title=\"Opens new window\" href=\"/doi/pdf/10.17813/1086-671X-22-2-155\">PDF (357 KB)</a>&nbsp;</td><td align=\"right\" valign=\"top\" width=\"18\"><img src=\"/templates/jsp/_style2/_AP/_pinnacle/_theme2/images/access_no.gif\" alt=\"No Access\" title=\"No Access\" class=\"accessIcon noAccess\" /></td></tr></table><table border=\"0\" width=\"100%\" class=\"articleEntry\"><tr><td align=\"right\" valign=\"top\" width=\"18\" class=\"nowrap\">177</td><td align=\"right\" valign=\"top\" width=\"18\"><input type=\"checkbox\" name=\"doi\" value=\"10.17813/1086-671X-22-2-177\" /><br /></td><td valign=\"top\"><span class=\"hlFld-Title\"><div class=\"art_title\">RESPONDING TO THE STREET: GOVERNMENT RESPONSES TO MASS PROTESTS IN DEMOCRACIES</div></span><span class=\"hlFld-ContribAuthor\">Alejandro Milcíades Peña</span> and <span class=\"hlFld-ContribAuthor\">Thomas Richard Davies</span><br /><a class=\"ref nowrap useQueryHash\" href=\"/doi/abs/10.17813/1086-671X-22-2-177\">Abstract</a>\r\n",
       "\t\t\t| <a class=\"ref nowrap\" target=\"_blank\" title=\"Opens new window\" href=\"/doi/pdf/10.17813/1086-671X-22-2-177\">PDF (1662 KB)</a>&nbsp;</td><td align=\"right\" valign=\"top\" width=\"18\"><img src=\"/templates/jsp/_style2/_AP/_pinnacle/_theme2/images/access_no.gif\" alt=\"No Access\" title=\"No Access\" class=\"accessIcon noAccess\" /></td></tr></table><table border=\"0\" width=\"100%\" class=\"articleEntry\"><tr><td align=\"right\" valign=\"top\" width=\"18\" class=\"nowrap\">201</td><td align=\"right\" valign=\"top\" width=\"18\"><input type=\"checkbox\" name=\"doi\" value=\"10.17813/1086-671X-22-2-201\" /><br /></td><td valign=\"top\"><span class=\"hlFld-Title\"><div class=\"art_title\">VOICING OUTRAGE UNEVENLY: DEMOCRATIC DISSATISFACTION, NONPARTICIPATION, AND PARTICIPATION FREQUENCY IN THE 15-M CAMPAIGN</div></span><span class=\"hlFld-ContribAuthor\">Martín Portos</span> and <span class=\"hlFld-ContribAuthor\">Juan Masullo</span><br /><a class=\"ref nowrap useQueryHash\" href=\"/doi/abs/10.17813/1086-671X-22-2-201\">Abstract</a>\r\n",
       "\t\t\t| <a class=\"ref nowrap\" target=\"_blank\" title=\"Opens new window\" href=\"/doi/pdf/10.17813/1086-671X-22-2-201\">PDF (730 KB)</a>&nbsp;</td><td align=\"right\" valign=\"top\" width=\"18\"><img src=\"/templates/jsp/_style2/_AP/_pinnacle/_theme2/images/access_no.gif\" alt=\"No Access\" title=\"No Access\" class=\"accessIcon noAccess\" /></td></tr></table><table border=\"0\" width=\"100%\" class=\"articleEntry\"><tr><td align=\"right\" valign=\"top\" width=\"18\" class=\"nowrap\">223</td><td align=\"right\" valign=\"top\" width=\"18\"><input type=\"checkbox\" name=\"doi\" value=\"10.17813/1086-671X-22-2-223\" /><br /></td><td valign=\"top\"><span class=\"hlFld-Title\"><div class=\"art_title\">WHAT IS TO BE DONE? AGENCY AND THE CAUSATION OF TRANSFORMATIVE EVENTS IN IRELAND'S 1916 RISING AND 1969 LONG MARCH</div></span><span class=\"hlFld-ContribAuthor\">Lorenzo Bosi</span> and <span class=\"hlFld-ContribAuthor\">Donagh Davis</span><br /><a class=\"ref nowrap useQueryHash\" href=\"/doi/abs/10.17813/1086-671X-22-2-223\">Abstract</a>\r\n",
       "\t\t\t| <a class=\"ref nowrap\" target=\"_blank\" title=\"Opens new window\" href=\"/doi/pdf/10.17813/1086-671X-22-2-223\">PDF (307 KB)</a>&nbsp;</td><td align=\"right\" valign=\"top\" width=\"18\"><img src=\"/templates/jsp/_style2/_AP/_pinnacle/_theme2/images/access_no.gif\" alt=\"No Access\" title=\"No Access\" class=\"accessIcon noAccess\" /></td></tr></table><table border=\"0\" width=\"100%\" class=\"articleEntry\"><tr><td align=\"right\" valign=\"top\" width=\"18\" class=\"nowrap\">245</td><td align=\"right\" valign=\"top\" width=\"18\"><input type=\"checkbox\" name=\"doi\" value=\"10.17813/1086-671X-22-2-245\" /><br /></td><td valign=\"top\"><span class=\"hlFld-Title\"><div class=\"art_title\">WHY ONLY SOME LIFESTYLE ACTIVISTS AVOID STATE-ORIENTED POLITICS: A CASE STUDY IN THE BELGIAN ENVIRONMENTAL MOVEMENT</div></span><span class=\"hlFld-ContribAuthor\">Joost de Moor</span>, <span class=\"hlFld-ContribAuthor\">Sofie Marien</span> and <span class=\"hlFld-ContribAuthor\">Marc Hooghe</span><br /><a class=\"ref nowrap useQueryHash\" href=\"/doi/abs/10.17813/1086-671X-22-2-245\">Abstract</a>\r\n",
       "\t\t\t| <a class=\"ref nowrap\" target=\"_blank\" title=\"Opens new window\" href=\"/doi/pdf/10.17813/1086-671X-22-2-245\">PDF (285 KB)</a>&nbsp;</td><td align=\"right\" valign=\"top\" width=\"18\"><img src=\"/templates/jsp/_style2/_AP/_pinnacle/_theme2/images/access_no.gif\" alt=\"No Access\" title=\"No Access\" class=\"accessIcon noAccess\" /></td></tr></table><h2 class=\"tocHeading\"><span class=\"subj-group\">Book Reviews </span></h2><table border=\"0\" width=\"100%\" class=\"articleEntry\"><tr><td align=\"right\" valign=\"top\" width=\"18\" class=\"nowrap\">265</td><td align=\"right\" valign=\"top\" width=\"18\"><input type=\"checkbox\" name=\"doi\" value=\"10.17813/1086-671X-22.2.265\" /><br /></td><td valign=\"top\"><span class=\"hlFld-Title\"><div class=\"art_title\">BOOK REVIEWS</div></span><span class=\"hlFld-ContribAuthor\">Deana A. Rohlinger</span><br /><a class=\"ref nowrap useQueryHash\" href=\"/doi/abs/10.17813/1086-671X-22.2.265\">Citation</a>\r\n",
       "\t\t\t| <a class=\"ref nowrap\" target=\"_blank\" title=\"Opens new window\" href=\"/doi/pdf/10.17813/1086-671X-22.2.265\">PDF (167 KB)</a>&nbsp;</td><td align=\"right\" valign=\"top\" width=\"18\"><img src=\"/templates/jsp/_style2/_AP/_pinnacle/_theme2/images/access_no.gif\" alt=\"No Access\" title=\"No Access\" class=\"accessIcon noAccess\" /></td></tr></table></div>\n",
       "<input type=\"hidden\" name=\"href\" value=\"/toc/maiq/22/2?code=hjdm-site\" />\n",
       "\n",
       "<input type=\"hidden\" name=\"mailPageTitle\" value=\"Table of Contents for Mobilization: An International Quarterly: Volume 22, Issue 2 &lt;br/&gt;(June 2017)\" />\n",
       "\n",
       "\n",
       "                    </div>\n",
       "        \n",
       "        <img class=\"spacer\" src=\"/templates/jsp/images/singlePixel.gif\" />\n",
       "    </div>\n",
       "    <div class=\"panelFooter\">\n",
       "        <div class=\"left\"></div>\n",
       "        <div class=\"content\"></div>\n",
       "        <div class=\"right\"></div>\n",
       "    </div>\n",
       "</div>\n",
       "        </form>\n",
       "        \n",
       "        <span id=\"hide\"><a href=\"/doi/pdf/10.1046/9999-9999.99999\"><!-- Spider trap link --></a></span></div>\n",
       "                    </td>\n",
       "                    <td width=\"200\" class=\"bc\">\n",
       "                        <div id=\"rightCol\">\n",
       "\n",
       "\n",
       "\n",
       "\n",
       "\n",
       "\n",
       "\n",
       "\n",
       "\n",
       "\n",
       "\n",
       "\n",
       "\n",
       "\n",
       "\n",
       "\n",
       "\n",
       "\n",
       "\n",
       "\n",
       "\n",
       "\n",
       "\n",
       "\n",
       "\n",
       "\n",
       "<div class=\"panel_228\" id=\"journalNavPanel\">\n",
       "    <div class=\"panelHeading\">\n",
       "        <div class=\"left\"></div>\n",
       "        <div class=\"content\">\n",
       "            \n",
       "            \n",
       "                    <h3>Volume 22, Issue 2 <br/>(June 2017)</h3>\n",
       "                \n",
       "            \n",
       "        </div>\n",
       "        <div class=\"right\"></div>\n",
       "    </div>\n",
       "    <div class=\"panelBody\">\n",
       "        \n",
       "            <div id=\"nextprev\">\n",
       "                \n",
       "                    <a href=\"/toc/maiq/22/1\">\n",
       "                        &lt; Previous\n",
       "                    </a>\n",
       "                \n",
       "                \n",
       "            </div><br/>\n",
       "        \n",
       "        <div id=\"smallIssueCover\">\n",
       "            \n",
       "                    <a href=\"/loi/maiq\">\n",
       "                    <img src=\"/na101/home/literatum/publisher/pinnacle/journals/covergifs/maiq/cover.jpg\" /><br/>\n",
       "                </a>\n",
       "                \n",
       "            \n",
       "        </div>\n",
       "\n",
       "        \n",
       "\n",
       "\n",
       "\n",
       "\n",
       "\n",
       "\n",
       "<div>\n",
       "    <!-- File is left blank intentionally. -->\n",
       "</div>\n",
       "<br/>\n",
       "\n",
       "\n",
       "\n",
       "    \n",
       "        \n",
       "\n",
       "\n",
       "\n",
       "\n",
       "        <a href=\"/toc/maiq/22/2\">\n",
       "            Current Issue\n",
       "        </a><br/>\n",
       "    \n",
       "    \n",
       "\n",
       "\n",
       "\n",
       "\n",
       "<a href=\"/loi/maiq\">\n",
       "    Available Issues\n",
       "</a><br/>\n",
       "\n",
       "\n",
       "\n",
       "    \n",
       "\n",
       "\n",
       "<div>\n",
       "\n",
       "</div>\n",
       "\n",
       "\n",
       "\n",
       "    \n",
       "\n",
       "\n",
       "\n",
       "\n",
       "\n",
       "\n",
       "\n",
       "\n",
       "\n",
       "\n",
       "        \n",
       "        <img class=\"spacer\" src=\"/templates/jsp/images/singlePixel.gif\" />\n",
       "    </div>\n",
       "    <div class=\"panelFooter\">\n",
       "        <div class=\"left\"></div>\n",
       "        <div class=\"content\"></div>\n",
       "        <div class=\"right\"></div>\n",
       "    </div>\n",
       "</div>\n",
       "\n",
       "\n",
       "\n",
       "\n",
       "\n",
       "\n",
       "\n",
       "\n",
       "<div class=\"panel_228\">\n",
       "    <div class=\"panelHeading\">\n",
       "        <div class=\"left\"></div>\n",
       "        <div class=\"content\">\n",
       "            <h3>Alerts for the Journal</h3>\n",
       "        </div>\n",
       "        <div class=\"right\"></div>\n",
       "    </div>\n",
       "    <div class=\"panelBody\">\n",
       "        Click\n",
       "        \n",
       "        <a href=\"#\" class=\"subscribe-anchor\" >here</a>\n",
       "        to get an email alert for every new issue of <br/> <h3>Mobilization: An International Quarterly</h3>\n",
       "    </div>\n",
       "    <div class=\"panelFooter\">\n",
       "        <div class=\"left\"></div>\n",
       "        <div class=\"content\"></div>\n",
       "        <div class=\"right\"></div>\n",
       "    </div>\n",
       "</div>\n",
       "\n",
       "\n",
       "<div class=\"subscribe-wrapper\">\n",
       "    <span class=\"close-log\">X</span>\n",
       "    <div class=\"subscribe-form\">\n",
       "        \n",
       "\n",
       "\n",
       "<form action=\"/action/doSubscribe\" name=\"emailSubscribe\" method=\"post\"><label class=\"subscribe-form-2-label\">\n",
       "        Email Address:\n",
       "    </label>\n",
       "    <input type=\"email\" name=\"email\" autoFocus=\"autofocus\"  class=\"subscribe-form-2\" required/>\n",
       "    <br><br/>\n",
       "    <input type=\"hidden\" value=\"true\" name=\"fromsubscribe\"/>\n",
       "    <input type=\"hidden\" value=\"addJournal\" name=\"action\"/>\n",
       "    <input type=\"hidden\" value=\"maiq\" name=\"journalCode\"/>\n",
       "    <input type=\"hidden\" value=\"/toc/maiq/22/2?code=hjdm-site\" name=\"referrer\"/>\n",
       "    <input class=\"subscribe-form-2\" type=\"submit\" value=\"Subscribe\"/></form>\n",
       "    </div>\n",
       "</div>\n",
       "\n",
       "<script type=\"text/javascript\">\n",
       "    $('.subscribe-anchor').click(function(e){\n",
       "        $('.subscribe-wrapper').slideToggle();\n",
       "        e.preventDefault();\n",
       "    });\n",
       "    $('.close-log').click(function() {\n",
       "        $('.subscribe-wrapper').slideToggle();\n",
       "    });\n",
       "    $(document).keyup(function(e) {\n",
       "        if(e.which == 27){\n",
       "            if($('.subscribe-wrapper').css(\"display\") != 'none') {\n",
       "                $('.subscribe-wrapper').slideToggle();\n",
       "            }\n",
       "        }\n",
       "    });\n",
       "</script>\n",
       "\n",
       "\n",
       "\n",
       "\n",
       "\n",
       "        <!-- placeholder id=null, description=Journal Message Right 1 -->\n",
       "    \n",
       "\n",
       "\n",
       "\n",
       "\n",
       "\n",
       "\n",
       "\n",
       "\n",
       "\n",
       "\n",
       "\n",
       " \n",
       "\n",
       "\n",
       "\n",
       "\n",
       "\n",
       "\n",
       "\n",
       "    \n",
       "        \n",
       "    \n",
       "\n",
       "\n",
       "\n",
       "\n",
       "\n",
       "\n",
       "\n",
       "\n",
       "<div class=\"panel_228\" id=\"journalInfoPanel\">\n",
       "    <div class=\"panelHeading\">\n",
       "        <div class=\"left\"></div>\n",
       "        <div class=\"content\">\n",
       "            \n",
       "            \n",
       "                    \n",
       "                        <h3>Journal Information</h3>\n",
       "                    \n",
       "                \n",
       "            \n",
       "        </div>\n",
       "        <div class=\"right\"></div>\n",
       "    </div>\n",
       "    <div class=\"panelBody\">\n",
       "        \n",
       "            <table class=\"mceItemTable\">\r\n",
       "    <tbody>\r\n",
       "        <tr>\r\n",
       "            <td><b>ISSN:</b></td>\r\n",
       "            <td>1086-671X</td>\r\n",
       "        </tr>\r\n",
       "        <tr>\r\n",
       "            <td><b>Frequency:</b></td>\r\n",
       "            <td>Quarterly</td>\r\n",
       "        </tr>\r\n",
       "        <tr>\r\n",
       "            <td><b>RSS Feed:</b><br /><a href=\"/page/rss\">(What is this?)</a></td>\r\n",
       "            <td><a href=\"/action/showFeed?type=etoc&amp;feed=rss&amp;jc=maiq\"><img title=\"RSS TOC Feed\" alt=\"rrs icon\" src=\"/userimages/ContentEditor/1422297266654/Rss-icon_24px.png\" /></a></td>\r\n",
       "        </tr>\r\n",
       "    </tbody>\r\n",
       "</table>\n",
       "        \n",
       "        \n",
       "        <img class=\"spacer\" src=\"/templates/jsp/images/singlePixel.gif\" />\n",
       "    </div>\n",
       "    <div class=\"panelFooter\">\n",
       "        <div class=\"left\"></div>\n",
       "        <div class=\"content\"></div>\n",
       "        <div class=\"right\"></div>\n",
       "    </div>\n",
       "</div>\n",
       "\n",
       "\n",
       "\n",
       "\n",
       "\n",
       "\n",
       "\n",
       "\n",
       "\n",
       " \n",
       "\n",
       "\n",
       "\n",
       "\n",
       "\n",
       "\n",
       "\n",
       "    \n",
       "        \n",
       "    \n",
       "\n",
       "\n",
       "\n",
       "\n",
       "\n",
       "\n",
       "\n",
       "\n",
       "<div class=\"panel_228\" id=\"registerPanel\">\n",
       "    <div class=\"panelHeading\">\n",
       "        <div class=\"left\"></div>\n",
       "        <div class=\"content\">\n",
       "            \n",
       "            \n",
       "                    \n",
       "                        <h3>Register for a Profile</h3>\n",
       "                    \n",
       "                \n",
       "            \n",
       "        </div>\n",
       "        <div class=\"right\"></div>\n",
       "    </div>\n",
       "    <div class=\"panelBody\">\n",
       "        \n",
       "        <p><b>Not Yet Registered?</b></p><p style=\"text-align:center;\"><i>Benefits of Registration Include: </i></p><ul>    <li>A Unique User Profile that will allow you to manage your current subscriptions (including online access)</li>    <li>The ability to create favorites lists down to the article level</li>    <li>The ability to customize email alerts to receive specific notifications about the topics you care most about and special offers</li></ul><p><a href=\"/action/registration\"><b>Register Now!</b></a><br /></p>\n",
       "        \n",
       "        \n",
       "        <img class=\"spacer\" src=\"/templates/jsp/images/singlePixel.gif\" />\n",
       "    </div>\n",
       "    <div class=\"panelFooter\">\n",
       "        <div class=\"left\"></div>\n",
       "        <div class=\"content\"></div>\n",
       "        <div class=\"right\"></div>\n",
       "    </div>\n",
       "</div>\n",
       "\n",
       "\n",
       "\n",
       "\n",
       "\n",
       "\n",
       "        <!-- placeholder id=null, description=Journal Message Right 2 -->\n",
       "    \n",
       "\n",
       "\n",
       "\n",
       "\n",
       "\n",
       "\n",
       "\n",
       "\n",
       "\n",
       "        <!-- placeholder id=null, description=Journal Message Right 3 -->\n",
       "    \n",
       "\n",
       "\n",
       "\n",
       "</div>\n",
       "                    </td>\n",
       "                </tr>\n",
       "            </tbody>\n",
       "        </table>\n",
       "        </div>\n",
       "        <div class=\"clearfix\">&nbsp;</div>\n",
       "    </div>\n",
       "    <div id=\"footer\">\n",
       "        \n",
       "\n",
       "\n",
       "\n",
       "\n",
       "<div id=\"linkToTop\">    <a href=\"#pageTop\">        <img src=\"/templates/jsp/_style2/_AP/_pinnacle/images/link_top.gif\" />    </a><br /></div><div id=\"footerCopy\">    <hr /><p style=\"text-align: center;\">    Published by <a href=\"mailto:mobilization@unc.edu\" target=\"_blank\">Mobilization</a><br />    Copyright &copy; 2017 Mobilization. All rights reserved.</p></div>\n",
       "    </div>\n",
       "</div>\n",
       "\r\n",
       "\r\n",
       "\r\n",
       "    \r\n",
       "\n",
       "</body>\n",
       "</html>\n",
       "\n",
       "\n",
       "\n"
      ],
      "text/plain": [
       "<IPython.core.display.HTML object>"
      ]
     },
     "execution_count": 16,
     "metadata": {},
     "output_type": "execute_result"
    }
   ],
   "source": [
    "HTML(page.text)"
   ]
  },
  {
   "cell_type": "code",
   "execution_count": 17,
   "metadata": {
    "collapsed": true,
    "slideshow": {
     "slide_type": "slide"
    }
   },
   "outputs": [],
   "source": [
    "page_html = page.text"
   ]
  },
  {
   "cell_type": "markdown",
   "metadata": {
    "slideshow": {
     "slide_type": "slide"
    }
   },
   "source": [
    "Look at the source code of a sample page.\n",
    "\n",
    "![](https://raw.githubusercontent.com/nealcaren/CSSS-CABD/master/images/source.png)"
   ]
  },
  {
   "cell_type": "markdown",
   "metadata": {
    "slideshow": {
     "slide_type": "slide"
    }
   },
   "source": [
    "Look at the source code of a sample page.\n",
    "\n",
    "![](https://raw.githubusercontent.com/nealcaren/CSSS-CABD/master/images/search_html.png)"
   ]
  },
  {
   "cell_type": "markdown",
   "metadata": {
    "slideshow": {
     "slide_type": "slide"
    }
   },
   "source": [
    "So our headline is here:\n",
    "\n",
    "`div class=\"art_title\">ROUTING AROUND ORGANIZATIONS: SELF-DIRECTED POLITICAL CONSUMPTION<`"
   ]
  },
  {
   "cell_type": "markdown",
   "metadata": {
    "slideshow": {
     "slide_type": "fragment"
    }
   },
   "source": [
    "which fits the pattern\n",
    "\n",
    "`div class=\"art_title\">HEADLINE<`"
   ]
  },
  {
   "cell_type": "markdown",
   "metadata": {
    "slideshow": {
     "slide_type": "slide"
    }
   },
   "source": [
    "Regular expressions\n",
    "\n",
    "xkcd - 208\n",
    "\n",
    "![](https://raw.github.com/nealcaren/workshop_2014/master/notebooks/images/regular_expressions.png)"
   ]
  },
  {
   "cell_type": "markdown",
   "metadata": {
    "slideshow": {
     "slide_type": "slide"
    }
   },
   "source": [
    "Regular expressions\n",
    "\n",
    "xkcd - 1171\n",
    "\n",
    "![](https://raw.github.com/nealcaren/workshop_2014/master/notebooks/images/perl_problems.png)"
   ]
  },
  {
   "cell_type": "code",
   "execution_count": 18,
   "metadata": {
    "collapsed": true,
    "slideshow": {
     "slide_type": "slide"
    }
   },
   "outputs": [],
   "source": [
    "import re"
   ]
  },
  {
   "cell_type": "markdown",
   "metadata": {
    "slideshow": {
     "slide_type": "slide"
    }
   },
   "source": [
    "`HEADLINE` becomes `(.*?)`\n",
    "\n",
    "`.`  match any character  \n",
    "`*`  and keep going  \n",
    "`?`  until you find the first ..."
   ]
  },
  {
   "cell_type": "code",
   "execution_count": 19,
   "metadata": {
    "slideshow": {
     "slide_type": "slide"
    }
   },
   "outputs": [
    {
     "data": {
      "text/plain": [
       "[u'div class=\"art_title\">ROUTING AROUND ORGANIZATIONS: SELF-DIRECTED POLITICAL CONSUMPTION<',\n",
       " u'div class=\"art_title\">BRINGING THE FACTORY BACK IN: THE CRUMBLING OF CONSENT AND THE MOLDING OF COLLECTIVE CAPACITY AT WORK<',\n",
       " u'div class=\"art_title\">RESPONDING TO THE STREET: GOVERNMENT RESPONSES TO MASS PROTESTS IN DEMOCRACIES<',\n",
       " u'div class=\"art_title\">VOICING OUTRAGE UNEVENLY: DEMOCRATIC DISSATISFACTION, NONPARTICIPATION, AND PARTICIPATION FREQUENCY IN THE 15-M CAMPAIGN<',\n",
       " u'div class=\"art_title\">WHAT IS TO BE DONE? AGENCY AND THE CAUSATION OF TRANSFORMATIVE EVENTS IN IRELAND\\'S 1916 RISING AND 1969 LONG MARCH<',\n",
       " u'div class=\"art_title\">WHY ONLY SOME LIFESTYLE ACTIVISTS AVOID STATE-ORIENTED POLITICS: A CASE STUDY IN THE BELGIAN ENVIRONMENTAL MOVEMENT<',\n",
       " u'div class=\"art_title\">BOOK REVIEWS<']"
      ]
     },
     "execution_count": 19,
     "metadata": {},
     "output_type": "execute_result"
    }
   ],
   "source": [
    "re.findall('div class=\"art_title\">.*?<', page_html)   "
   ]
  },
  {
   "cell_type": "markdown",
   "metadata": {
    "slideshow": {
     "slide_type": "slide"
    }
   },
   "source": [
    "`HEADLINE` becomes `(.*?)`\n",
    "\n",
    "`.`  match any character  \n",
    "`*`  and keep going  \n",
    "`?`  until you find the first ...\n",
    "\n",
    "and\n",
    "\n",
    "only return things inbetween the `()`"
   ]
  },
  {
   "cell_type": "code",
   "execution_count": 20,
   "metadata": {
    "slideshow": {
     "slide_type": "fragment"
    }
   },
   "outputs": [
    {
     "data": {
      "text/plain": [
       "[u'ROUTING AROUND ORGANIZATIONS: SELF-DIRECTED POLITICAL CONSUMPTION',\n",
       " u'BRINGING THE FACTORY BACK IN: THE CRUMBLING OF CONSENT AND THE MOLDING OF COLLECTIVE CAPACITY AT WORK',\n",
       " u'RESPONDING TO THE STREET: GOVERNMENT RESPONSES TO MASS PROTESTS IN DEMOCRACIES',\n",
       " u'VOICING OUTRAGE UNEVENLY: DEMOCRATIC DISSATISFACTION, NONPARTICIPATION, AND PARTICIPATION FREQUENCY IN THE 15-M CAMPAIGN',\n",
       " u\"WHAT IS TO BE DONE? AGENCY AND THE CAUSATION OF TRANSFORMATIVE EVENTS IN IRELAND'S 1916 RISING AND 1969 LONG MARCH\",\n",
       " u'WHY ONLY SOME LIFESTYLE ACTIVISTS AVOID STATE-ORIENTED POLITICS: A CASE STUDY IN THE BELGIAN ENVIRONMENTAL MOVEMENT',\n",
       " u'BOOK REVIEWS']"
      ]
     },
     "execution_count": 20,
     "metadata": {},
     "output_type": "execute_result"
    }
   ],
   "source": [
    "re.findall('div class=\"art_title\">(.*?)<', page_html)   "
   ]
  },
  {
   "cell_type": "markdown",
   "metadata": {
    "slideshow": {
     "slide_type": "slide"
    }
   },
   "source": [
    "You might want to include `.*?` or `()` or `\\^$.|+[{' as part of your search term.\n"
   ]
  },
  {
   "cell_type": "markdown",
   "metadata": {
    "slideshow": {
     "slide_type": "fragment"
    }
   },
   "source": [
    "You can, with `\\`"
   ]
  },
  {
   "cell_type": "code",
   "execution_count": 21,
   "metadata": {
    "slideshow": {
     "slide_type": "fragment"
    }
   },
   "outputs": [
    {
     "data": {
      "text/plain": [
       "[u'ROUTING AROUND ORGANIZATIONS: SELF-DIRECTED POLITICAL CONSUMPTION',\n",
       " u'BRINGING THE FACTORY BACK IN: THE CRUMBLING OF CONSENT AND THE MOLDING OF COLLECTIVE CAPACITY AT WORK',\n",
       " u'RESPONDING TO THE STREET: GOVERNMENT RESPONSES TO MASS PROTESTS IN DEMOCRACIES',\n",
       " u'VOICING OUTRAGE UNEVENLY: DEMOCRATIC DISSATISFACTION, NONPARTICIPATION, AND PARTICIPATION FREQUENCY IN THE 15-M CAMPAIGN',\n",
       " u\"WHAT IS TO BE DONE? AGENCY AND THE CAUSATION OF TRANSFORMATIVE EVENTS IN IRELAND'S 1916 RISING AND 1969 LONG MARCH\",\n",
       " u'WHY ONLY SOME LIFESTYLE ACTIVISTS AVOID STATE-ORIENTED POLITICS: A CASE STUDY IN THE BELGIAN ENVIRONMENTAL MOVEMENT',\n",
       " u'BOOK REVIEWS']"
      ]
     },
     "execution_count": 21,
     "metadata": {},
     "output_type": "execute_result"
    }
   ],
   "source": [
    "re.findall('div class=\"art_title\">(.*?)<\\/div', page_html)   "
   ]
  },
  {
   "cell_type": "markdown",
   "metadata": {
    "slideshow": {
     "slide_type": "slide"
    }
   },
   "source": [
    "<div class=\"alert alert-success\">\n",
    "Your turn. Find the sizes of all the linked PDFs!\n",
    "</div> "
   ]
  },
  {
   "cell_type": "markdown",
   "metadata": {
    "slideshow": {
     "slide_type": "slide"
    }
   },
   "source": [
    "Store the results somewhere, and try it on a different page."
   ]
  },
  {
   "cell_type": "code",
   "execution_count": 22,
   "metadata": {
    "collapsed": true,
    "slideshow": {
     "slide_type": "fragment"
    }
   },
   "outputs": [],
   "source": [
    "titles = re.findall('div class=\"art_title\">(.*?)<\\/div', page_html)   "
   ]
  },
  {
   "cell_type": "code",
   "execution_count": 23,
   "metadata": {
    "slideshow": {
     "slide_type": "fragment"
    }
   },
   "outputs": [
    {
     "data": {
      "text/plain": [
       "[u'ROUTING AROUND ORGANIZATIONS: SELF-DIRECTED POLITICAL CONSUMPTION',\n",
       " u'BRINGING THE FACTORY BACK IN: THE CRUMBLING OF CONSENT AND THE MOLDING OF COLLECTIVE CAPACITY AT WORK',\n",
       " u'RESPONDING TO THE STREET: GOVERNMENT RESPONSES TO MASS PROTESTS IN DEMOCRACIES',\n",
       " u'VOICING OUTRAGE UNEVENLY: DEMOCRATIC DISSATISFACTION, NONPARTICIPATION, AND PARTICIPATION FREQUENCY IN THE 15-M CAMPAIGN',\n",
       " u\"WHAT IS TO BE DONE? AGENCY AND THE CAUSATION OF TRANSFORMATIVE EVENTS IN IRELAND'S 1916 RISING AND 1969 LONG MARCH\",\n",
       " u'WHY ONLY SOME LIFESTYLE ACTIVISTS AVOID STATE-ORIENTED POLITICS: A CASE STUDY IN THE BELGIAN ENVIRONMENTAL MOVEMENT',\n",
       " u'BOOK REVIEWS']"
      ]
     },
     "execution_count": 23,
     "metadata": {},
     "output_type": "execute_result"
    }
   ],
   "source": [
    "titles"
   ]
  },
  {
   "cell_type": "code",
   "execution_count": 24,
   "metadata": {
    "slideshow": {
     "slide_type": "slide"
    }
   },
   "outputs": [
    {
     "name": "stdout",
     "output_type": "stream",
     "text": [
      "http://mobilizationjournal.org/toc/maiq/22/1\n",
      "[u'HOW THE STUDY OF WHITE SUPREMACISM IS HELPED AND HINDERED BY SOCIAL MOVEMENT RESEARCH', u'LOUD AND CLEAR: THE EFFECT OF PROTEST SIGNALS ON CONGRESSIONAL ATTENTION', u'THE REBEL ALLIANCE STRIKES BACK: UNDERSTANDING THE POLITICS OF BACKLASH MOBILIZATION', u'THE EDUCATIONAL CONTEXTS OF ISLAMIST ACTIVISM: ELITE STUDENTS AND RELIGIOUS INSTITUTIONS IN EGYPT', u'HALF A LOAF IS (NOT) BETTER THAN NONE: HOW AUSTERITY-RELATED GRIEVANCES AND EMOTIONS TRIGGERED PROTESTS IN SPAIN', u'PARTY SYSTEMS, PARTY-SOCIETY LINKAGES, AND CONTENTIOUS ACTS: CYPRUS IN A COMPARATIVE, SOUTHERN EUROPEAN PERSPECTIVE', u'Book Reviews']\n"
     ]
    }
   ],
   "source": [
    "issue  = 1\n",
    "\n",
    "url = 'http://mobilizationjournal.org/toc/maiq/%s/%s' % (volume, issue)\n",
    "\n",
    "print(url)\n",
    "\n",
    "page = requests.get(url)\n",
    "page_html = page.text\n",
    "titles =  re.findall('div class=\"art_title\">(.*?)<\\/div', page_html)  \n",
    "\n",
    "print titles\n"
   ]
  },
  {
   "cell_type": "markdown",
   "metadata": {
    "slideshow": {
     "slide_type": "slide"
    }
   },
   "source": [
    "Production time!!!"
   ]
  },
  {
   "cell_type": "code",
   "execution_count": 25,
   "metadata": {
    "slideshow": {
     "slide_type": "fragment"
    }
   },
   "outputs": [
    {
     "name": "stdout",
     "output_type": "stream",
     "text": [
      "http://mobilizationjournal.org/toc/maiq/20/1\n",
      "http://mobilizationjournal.org/toc/maiq/20/2\n",
      "http://mobilizationjournal.org/toc/maiq/20/3\n",
      "http://mobilizationjournal.org/toc/maiq/20/4\n"
     ]
    }
   ],
   "source": [
    "volume = 20\n",
    "\n",
    "for issue in range(1,5):\n",
    "    url = 'http://mobilizationjournal.org/toc/maiq/%s/%s' % (volume, issue)\n",
    "    print url\n"
   ]
  },
  {
   "cell_type": "code",
   "execution_count": 26,
   "metadata": {
    "collapsed": true,
    "slideshow": {
     "slide_type": "slide"
    }
   },
   "outputs": [],
   "source": [
    "from time import sleep"
   ]
  },
  {
   "cell_type": "code",
   "execution_count": 27,
   "metadata": {
    "collapsed": true,
    "slideshow": {
     "slide_type": "fragment"
    }
   },
   "outputs": [],
   "source": [
    "def get_moby_titles(page_html):\n",
    "    titles =  re.findall('div class=\"art_title\">(.*?)<\\/div', page_html)  \n",
    "    return titles\n",
    "\n",
    "\n",
    "#somewhere to store the titles\n",
    "titles = []\n",
    "volume = 20\n",
    "\n",
    "#Loop through 1 volume pages.\n",
    "for issue in range(1,5):\n",
    "    #construct the URL\n",
    "    url = 'http://mobilizationjournal.org/toc/maiq/%s/%s' % (volume, issue)\n",
    "\n",
    "    #Open the page and grab the HTML\n",
    "    page = requests.get(url)\n",
    "    page_html = page.text\n",
    "    \n",
    "    #Extract the headlines\n",
    "    new_titles = get_moby_titles(page_html) \n",
    "\n",
    "    #Add them to our headline list\n",
    "    titles = titles + new_titles\n",
    "    \n",
    "    #Rest\n",
    "    sleep(1)\n",
    "\n",
    "    \n"
   ]
  },
  {
   "cell_type": "code",
   "execution_count": 28,
   "metadata": {
    "slideshow": {
     "slide_type": "slide"
    }
   },
   "outputs": [
    {
     "data": {
      "text/plain": [
       "29"
      ]
     },
     "execution_count": 28,
     "metadata": {},
     "output_type": "execute_result"
    }
   ],
   "source": [
    "len(titles)"
   ]
  },
  {
   "cell_type": "code",
   "execution_count": 29,
   "metadata": {
    "slideshow": {
     "slide_type": "fragment"
    }
   },
   "outputs": [
    {
     "data": {
      "text/plain": [
       "[u'The Virtue of Comparison: On Times, Places, Issues, and Activities',\n",
       " u'Legitimation, State Repression, and the Sioux Massacre at Wounded Knee',\n",
       " u'The Rise and Demise of the Dutch Extreme Right: Discursive Opportunities and Support for the Center Democrats in the 1990s',\n",
       " u'Persistent Challengers: Repression, Concessions, Challenger Strength, and Commitment in Latin America',\n",
       " u'A Study of Perceived Protest Atmospheres: How Demonstrators Evaluate Police-Demonstrator Interactions and Why',\n",
       " u'Not-So-Public Contention: Movement Strategies, Regimes, and the Transformation of Public Institutions in Brazil',\n",
       " u'Book Reviews',\n",
       " u'From Violence to Mobilization: Women, War, and Threat in Rwanda',\n",
       " u'\\u201cAre You One of Those Women?\\u201d Within-Movement Conflict, Radical Flank Effects, and Social Movement Political Outcomes',\n",
       " u'Business Unity and Anticorporate Protests: The U.S. Fortune 500 in 2010',\n",
       " u'\\u201cThe Ballot or the Bullet\\u201d: The Crisis of Victory and the Institutionalization and Radicalization of the Civil Rights Movement',\n",
       " u'Economic Crisis and Popular Protest in Iceland, January 2009: The Role of Perceived Economic Loss and Political Attitudes in Protest Participation and Support',\n",
       " u'Facebook Feminism: Social Media, Blogs, and New Technologies of Contemporary U.S. Feminism',\n",
       " u'Book Reviews',\n",
       " u'A Field-Experimental Study of Emergent Mobilization in Online Collective Action',\n",
       " u'The Organization of Expert Activism: Shadow Mobilization in Two Social Movements',\n",
       " u'Concealed Repressions: Labor Organizing Campaigns and Antiunion Practices in the Apparel Industry of Guatemala',\n",
       " u'Gaining a Voice: Storytelling and Undocumented Youth Activism in Chicago',\n",
       " u'Unpacking Frame Resonance: Professional and Experiential Expertise in Intellectual Property Rights Contention',\n",
       " u'Preconflict Mobilization Strategies and Urban-Rural Transition: The Cases of the PKK and the FLN/EZLN',\n",
       " u'Book Reviews',\n",
       " u'Nonviolent Resistance Research',\n",
       " u'Do Contemporaneous Armed Challenges Affect the Outcomes of Mass Nonviolent Campaigns?',\n",
       " u'Revolution, Nonviolence, and the Arab Uprisings',\n",
       " u'Nonviolence as a Weapon of the Resourceful: From Claims to Tactics in Mobilization',\n",
       " u'Rightful Radical Resistance: Mass Mobilization and Land Struggles in India and Brazil',\n",
       " u'Decolonizing Civil Resistance',\n",
       " u'The Dynamics of Nonviolence Knowledge',\n",
       " u'Book Reviews']"
      ]
     },
     "execution_count": 29,
     "metadata": {},
     "output_type": "execute_result"
    }
   ],
   "source": [
    "titles"
   ]
  },
  {
   "cell_type": "code",
   "execution_count": 30,
   "metadata": {
    "slideshow": {
     "slide_type": "slide"
    }
   },
   "outputs": [
    {
     "data": {
      "text/plain": [
       "[u'The Virtue of Comparison: On Times, Places, Issues, and Activities',\n",
       " u'Legitimation, State Repression, and the Sioux Massacre at Wounded Knee',\n",
       " u'The Rise and Demise of the Dutch Extreme Right: Discursive Opportunities and Support for the Center Democrats in the 1990s',\n",
       " u'Persistent Challengers: Repression, Concessions, Challenger Strength, and Commitment in Latin America',\n",
       " u'A Study of Perceived Protest Atmospheres: How Demonstrators Evaluate Police-Demonstrator Interactions and Why',\n",
       " u'Not-So-Public Contention: Movement Strategies, Regimes, and the Transformation of Public Institutions in Brazil',\n",
       " u'Book Reviews',\n",
       " u'From Violence to Mobilization: Women, War, and Threat in Rwanda',\n",
       " u'\\u201cAre You One of Those Women?\\u201d Within-Movement Conflict, Radical Flank Effects, and Social Movement Political Outcomes',\n",
       " u'Business Unity and Anticorporate Protests: The U.S. Fortune 500 in 2010']"
      ]
     },
     "execution_count": 30,
     "metadata": {},
     "output_type": "execute_result"
    }
   ],
   "source": [
    "titles[:10]"
   ]
  },
  {
   "cell_type": "code",
   "execution_count": 31,
   "metadata": {
    "slideshow": {
     "slide_type": "slide"
    }
   },
   "outputs": [
    {
     "data": {
      "text/plain": [
       "[u'Preconflict Mobilization Strategies and Urban-Rural Transition: The Cases of the PKK and the FLN/EZLN',\n",
       " u'Book Reviews',\n",
       " u'Nonviolent Resistance Research',\n",
       " u'Do Contemporaneous Armed Challenges Affect the Outcomes of Mass Nonviolent Campaigns?',\n",
       " u'Revolution, Nonviolence, and the Arab Uprisings',\n",
       " u'Nonviolence as a Weapon of the Resourceful: From Claims to Tactics in Mobilization',\n",
       " u'Rightful Radical Resistance: Mass Mobilization and Land Struggles in India and Brazil',\n",
       " u'Decolonizing Civil Resistance',\n",
       " u'The Dynamics of Nonviolence Knowledge',\n",
       " u'Book Reviews']"
      ]
     },
     "execution_count": 31,
     "metadata": {},
     "output_type": "execute_result"
    }
   ],
   "source": [
    "titles[-10:]"
   ]
  },
  {
   "cell_type": "markdown",
   "metadata": {
    "slideshow": {
     "slide_type": "slide"
    }
   },
   "source": [
    "Time to get it out of here."
   ]
  },
  {
   "cell_type": "code",
   "execution_count": 32,
   "metadata": {
    "collapsed": true,
    "slideshow": {
     "slide_type": "fragment"
    }
   },
   "outputs": [],
   "source": [
    "import codecs\n",
    "\n",
    "with codecs.open('moby_titles.txt', 'wb', 'utf8') as outfile:\n",
    "    \n",
    "    #Loop through each of our headlines\n",
    "    for title in titles:\n",
    "        \n",
    "        #'\\n' says End of line\n",
    "        outfile.write(title + '\\n')\n"
   ]
  },
  {
   "cell_type": "markdown",
   "metadata": {
    "slideshow": {
     "slide_type": "slide"
    }
   },
   "source": [
    "Take a look at the results"
   ]
  },
  {
   "cell_type": "code",
   "execution_count": 33,
   "metadata": {
    "slideshow": {
     "slide_type": "fragment"
    }
   },
   "outputs": [
    {
     "name": "stdout",
     "output_type": "stream",
     "text": [
      "The Virtue of Comparison: On Times, Places, Issues, and Activities\r\n",
      "Legitimation, State Repression, and the Sioux Massacre at Wounded Knee\r\n",
      "The Rise and Demise of the Dutch Extreme Right: Discursive Opportunities and Support for the Center Democrats in the 1990s\r\n",
      "Persistent Challengers: Repression, Concessions, Challenger Strength, and Commitment in Latin America\r\n",
      "A Study of Perceived Protest Atmospheres: How Demonstrators Evaluate Police-Demonstrator Interactions and Why\r\n",
      "Not-So-Public Contention: Movement Strategies, Regimes, and the Transformation of Public Institutions in Brazil\r\n",
      "Book Reviews\r\n",
      "From Violence to Mobilization: Women, War, and Threat in Rwanda\r\n",
      "“Are You One of Those Women?” Within-Movement Conflict, Radical Flank Effects, and Social Movement Political Outcomes\r\n",
      "Business Unity and Anticorporate Protests: The U.S. Fortune 500 in 2010\r\n",
      "“The Ballot or the Bullet”: The Crisis of Victory and the Institutionalization and Radicalization of the Civil Rights Movement\r\n",
      "Economic Crisis and Popular Protest in Iceland, January 2009: The Role of Perceived Economic Loss and Political Attitudes in Protest Participation and Support\r\n",
      "Facebook Feminism: Social Media, Blogs, and New Technologies of Contemporary U.S. Feminism\r\n",
      "Book Reviews\r\n",
      "A Field-Experimental Study of Emergent Mobilization in Online Collective Action\r\n",
      "The Organization of Expert Activism: Shadow Mobilization in Two Social Movements\r\n",
      "Concealed Repressions: Labor Organizing Campaigns and Antiunion Practices in the Apparel Industry of Guatemala\r\n",
      "Gaining a Voice: Storytelling and Undocumented Youth Activism in Chicago\r\n",
      "Unpacking Frame Resonance: Professional and Experiential Expertise in Intellectual Property Rights Contention\r\n",
      "Preconflict Mobilization Strategies and Urban-Rural Transition: The Cases of the PKK and the FLN/EZLN\r\n",
      "Book Reviews\r\n",
      "Nonviolent Resistance Research\r\n",
      "Do Contemporaneous Armed Challenges Affect the Outcomes of Mass Nonviolent Campaigns?\r\n",
      "Revolution, Nonviolence, and the Arab Uprisings\r\n",
      "Nonviolence as a Weapon of the Resourceful: From Claims to Tactics in Mobilization\r\n",
      "Rightful Radical Resistance: Mass Mobilization and Land Struggles in India and Brazil\r\n",
      "Decolonizing Civil Resistance\r\n",
      "The Dynamics of Nonviolence Knowledge\r\n",
      "Book Reviews\r\n"
     ]
    }
   ],
   "source": [
    "!cat moby_titles.txt"
   ]
  },
  {
   "cell_type": "markdown",
   "metadata": {
    "slideshow": {
     "slide_type": "slide"
    }
   },
   "source": [
    "<div class=\"alert alert-info\"> \n",
    "<h1> Your turn</h1>\n",
    "<p>Find the email addresses of the Univeristy of North Carolina, Chapel Hill Sociology faculty. \n",
    "<p> <em> Remember to put things in functions as soon as possible. </em>\n",
    "<p>Then try your script on the Political Science faculty page. \n",
    "<p>Does the script work for your department?\n",
    "</div>\n",
    "\n"
   ]
  },
  {
   "cell_type": "markdown",
   "metadata": {
    "slideshow": {
     "slide_type": "slide"
    }
   },
   "source": [
    "### Pandas lets you cheat"
   ]
  },
  {
   "cell_type": "code",
   "execution_count": 1,
   "metadata": {
    "slideshow": {
     "slide_type": "fragment"
    }
   },
   "outputs": [
    {
     "ename": "URLError",
     "evalue": "<urlopen error [Errno 8] nodename nor servname provided, or not known>",
     "output_type": "error",
     "traceback": [
      "\u001b[0;31m---------------------------------------------------------------------------\u001b[0m",
      "\u001b[0;31mURLError\u001b[0m                                  Traceback (most recent call last)",
      "\u001b[0;32m<ipython-input-1-4a251acf9881>\u001b[0m in \u001b[0;36m<module>\u001b[0;34m()\u001b[0m\n\u001b[1;32m      3\u001b[0m \u001b[0murl\u001b[0m \u001b[0;34m=\u001b[0m \u001b[0;34m'http://www.sv.uio.no/english/research/phd/summer-school/courses-2017/'\u001b[0m\u001b[0;34m\u001b[0m\u001b[0m\n\u001b[1;32m      4\u001b[0m \u001b[0;34m\u001b[0m\u001b[0m\n\u001b[0;32m----> 5\u001b[0;31m \u001b[0mcourses\u001b[0m \u001b[0;34m=\u001b[0m \u001b[0mpd\u001b[0m\u001b[0;34m.\u001b[0m\u001b[0mread_html\u001b[0m\u001b[0;34m(\u001b[0m\u001b[0murl\u001b[0m\u001b[0;34m)\u001b[0m\u001b[0;34m\u001b[0m\u001b[0m\n\u001b[0m",
      "\u001b[0;32m//anaconda/lib/python2.7/site-packages/pandas/io/html.pyc\u001b[0m in \u001b[0;36mread_html\u001b[0;34m(io, match, flavor, header, index_col, skiprows, attrs, parse_dates, tupleize_cols, thousands, encoding, decimal, converters, na_values, keep_default_na)\u001b[0m\n\u001b[1;32m    904\u001b[0m                   \u001b[0mthousands\u001b[0m\u001b[0;34m=\u001b[0m\u001b[0mthousands\u001b[0m\u001b[0;34m,\u001b[0m \u001b[0mattrs\u001b[0m\u001b[0;34m=\u001b[0m\u001b[0mattrs\u001b[0m\u001b[0;34m,\u001b[0m \u001b[0mencoding\u001b[0m\u001b[0;34m=\u001b[0m\u001b[0mencoding\u001b[0m\u001b[0;34m,\u001b[0m\u001b[0;34m\u001b[0m\u001b[0m\n\u001b[1;32m    905\u001b[0m                   \u001b[0mdecimal\u001b[0m\u001b[0;34m=\u001b[0m\u001b[0mdecimal\u001b[0m\u001b[0;34m,\u001b[0m \u001b[0mconverters\u001b[0m\u001b[0;34m=\u001b[0m\u001b[0mconverters\u001b[0m\u001b[0;34m,\u001b[0m \u001b[0mna_values\u001b[0m\u001b[0;34m=\u001b[0m\u001b[0mna_values\u001b[0m\u001b[0;34m,\u001b[0m\u001b[0;34m\u001b[0m\u001b[0m\n\u001b[0;32m--> 906\u001b[0;31m                   keep_default_na=keep_default_na)\n\u001b[0m",
      "\u001b[0;32m//anaconda/lib/python2.7/site-packages/pandas/io/html.pyc\u001b[0m in \u001b[0;36m_parse\u001b[0;34m(flavor, io, match, attrs, encoding, **kwargs)\u001b[0m\n\u001b[1;32m    741\u001b[0m             \u001b[0;32mbreak\u001b[0m\u001b[0;34m\u001b[0m\u001b[0m\n\u001b[1;32m    742\u001b[0m     \u001b[0;32melse\u001b[0m\u001b[0;34m:\u001b[0m\u001b[0;34m\u001b[0m\u001b[0m\n\u001b[0;32m--> 743\u001b[0;31m         \u001b[0mraise_with_traceback\u001b[0m\u001b[0;34m(\u001b[0m\u001b[0mretained\u001b[0m\u001b[0;34m)\u001b[0m\u001b[0;34m\u001b[0m\u001b[0m\n\u001b[0m\u001b[1;32m    744\u001b[0m \u001b[0;34m\u001b[0m\u001b[0m\n\u001b[1;32m    745\u001b[0m     \u001b[0mret\u001b[0m \u001b[0;34m=\u001b[0m \u001b[0;34m[\u001b[0m\u001b[0;34m]\u001b[0m\u001b[0;34m\u001b[0m\u001b[0m\n",
      "\u001b[0;32m//anaconda/lib/python2.7/site-packages/pandas/io/html.pyc\u001b[0m in \u001b[0;36m_parse\u001b[0;34m(flavor, io, match, attrs, encoding, **kwargs)\u001b[0m\n\u001b[1;32m    735\u001b[0m \u001b[0;34m\u001b[0m\u001b[0m\n\u001b[1;32m    736\u001b[0m         \u001b[0;32mtry\u001b[0m\u001b[0;34m:\u001b[0m\u001b[0;34m\u001b[0m\u001b[0m\n\u001b[0;32m--> 737\u001b[0;31m             \u001b[0mtables\u001b[0m \u001b[0;34m=\u001b[0m \u001b[0mp\u001b[0m\u001b[0;34m.\u001b[0m\u001b[0mparse_tables\u001b[0m\u001b[0;34m(\u001b[0m\u001b[0;34m)\u001b[0m\u001b[0;34m\u001b[0m\u001b[0m\n\u001b[0m\u001b[1;32m    738\u001b[0m         \u001b[0;32mexcept\u001b[0m \u001b[0mException\u001b[0m \u001b[0;32mas\u001b[0m \u001b[0mcaught\u001b[0m\u001b[0;34m:\u001b[0m\u001b[0;34m\u001b[0m\u001b[0m\n\u001b[1;32m    739\u001b[0m             \u001b[0mretained\u001b[0m \u001b[0;34m=\u001b[0m \u001b[0mcaught\u001b[0m\u001b[0;34m\u001b[0m\u001b[0m\n",
      "\u001b[0;32m//anaconda/lib/python2.7/site-packages/pandas/io/html.pyc\u001b[0m in \u001b[0;36mparse_tables\u001b[0;34m(self)\u001b[0m\n\u001b[1;32m    195\u001b[0m \u001b[0;34m\u001b[0m\u001b[0m\n\u001b[1;32m    196\u001b[0m     \u001b[0;32mdef\u001b[0m \u001b[0mparse_tables\u001b[0m\u001b[0;34m(\u001b[0m\u001b[0mself\u001b[0m\u001b[0;34m)\u001b[0m\u001b[0;34m:\u001b[0m\u001b[0;34m\u001b[0m\u001b[0m\n\u001b[0;32m--> 197\u001b[0;31m         \u001b[0mtables\u001b[0m \u001b[0;34m=\u001b[0m \u001b[0mself\u001b[0m\u001b[0;34m.\u001b[0m\u001b[0m_parse_tables\u001b[0m\u001b[0;34m(\u001b[0m\u001b[0mself\u001b[0m\u001b[0;34m.\u001b[0m\u001b[0m_build_doc\u001b[0m\u001b[0;34m(\u001b[0m\u001b[0;34m)\u001b[0m\u001b[0;34m,\u001b[0m \u001b[0mself\u001b[0m\u001b[0;34m.\u001b[0m\u001b[0mmatch\u001b[0m\u001b[0;34m,\u001b[0m \u001b[0mself\u001b[0m\u001b[0;34m.\u001b[0m\u001b[0mattrs\u001b[0m\u001b[0;34m)\u001b[0m\u001b[0;34m\u001b[0m\u001b[0m\n\u001b[0m\u001b[1;32m    198\u001b[0m         \u001b[0;32mreturn\u001b[0m \u001b[0;34m(\u001b[0m\u001b[0mself\u001b[0m\u001b[0;34m.\u001b[0m\u001b[0m_build_table\u001b[0m\u001b[0;34m(\u001b[0m\u001b[0mtable\u001b[0m\u001b[0;34m)\u001b[0m \u001b[0;32mfor\u001b[0m \u001b[0mtable\u001b[0m \u001b[0;32min\u001b[0m \u001b[0mtables\u001b[0m\u001b[0;34m)\u001b[0m\u001b[0;34m\u001b[0m\u001b[0m\n\u001b[1;32m    199\u001b[0m \u001b[0;34m\u001b[0m\u001b[0m\n",
      "\u001b[0;32m//anaconda/lib/python2.7/site-packages/pandas/io/html.pyc\u001b[0m in \u001b[0;36m_build_doc\u001b[0;34m(self)\u001b[0m\n\u001b[1;32m    452\u001b[0m     \u001b[0;32mdef\u001b[0m \u001b[0m_build_doc\u001b[0m\u001b[0;34m(\u001b[0m\u001b[0mself\u001b[0m\u001b[0;34m)\u001b[0m\u001b[0;34m:\u001b[0m\u001b[0;34m\u001b[0m\u001b[0m\n\u001b[1;32m    453\u001b[0m         \u001b[0;32mfrom\u001b[0m \u001b[0mbs4\u001b[0m \u001b[0;32mimport\u001b[0m \u001b[0mBeautifulSoup\u001b[0m\u001b[0;34m\u001b[0m\u001b[0m\n\u001b[0;32m--> 454\u001b[0;31m         return BeautifulSoup(self._setup_build_doc(), features='html5lib',\n\u001b[0m\u001b[1;32m    455\u001b[0m                              from_encoding=self.encoding)\n\u001b[1;32m    456\u001b[0m \u001b[0;34m\u001b[0m\u001b[0m\n",
      "\u001b[0;32m//anaconda/lib/python2.7/site-packages/pandas/io/html.pyc\u001b[0m in \u001b[0;36m_setup_build_doc\u001b[0;34m(self)\u001b[0m\n\u001b[1;32m    445\u001b[0m \u001b[0;34m\u001b[0m\u001b[0m\n\u001b[1;32m    446\u001b[0m     \u001b[0;32mdef\u001b[0m \u001b[0m_setup_build_doc\u001b[0m\u001b[0;34m(\u001b[0m\u001b[0mself\u001b[0m\u001b[0;34m)\u001b[0m\u001b[0;34m:\u001b[0m\u001b[0;34m\u001b[0m\u001b[0m\n\u001b[0;32m--> 447\u001b[0;31m         \u001b[0mraw_text\u001b[0m \u001b[0;34m=\u001b[0m \u001b[0m_read\u001b[0m\u001b[0;34m(\u001b[0m\u001b[0mself\u001b[0m\u001b[0;34m.\u001b[0m\u001b[0mio\u001b[0m\u001b[0;34m)\u001b[0m\u001b[0;34m\u001b[0m\u001b[0m\n\u001b[0m\u001b[1;32m    448\u001b[0m         \u001b[0;32mif\u001b[0m \u001b[0;32mnot\u001b[0m \u001b[0mraw_text\u001b[0m\u001b[0;34m:\u001b[0m\u001b[0;34m\u001b[0m\u001b[0m\n\u001b[1;32m    449\u001b[0m             \u001b[0;32mraise\u001b[0m \u001b[0mValueError\u001b[0m\u001b[0;34m(\u001b[0m\u001b[0;34m'No text parsed from document: %s'\u001b[0m \u001b[0;34m%\u001b[0m \u001b[0mself\u001b[0m\u001b[0;34m.\u001b[0m\u001b[0mio\u001b[0m\u001b[0;34m)\u001b[0m\u001b[0;34m\u001b[0m\u001b[0m\n",
      "\u001b[0;32m//anaconda/lib/python2.7/site-packages/pandas/io/html.pyc\u001b[0m in \u001b[0;36m_read\u001b[0;34m(obj)\u001b[0m\n\u001b[1;32m    129\u001b[0m     \"\"\"\n\u001b[1;32m    130\u001b[0m     \u001b[0;32mif\u001b[0m \u001b[0m_is_url\u001b[0m\u001b[0;34m(\u001b[0m\u001b[0mobj\u001b[0m\u001b[0;34m)\u001b[0m\u001b[0;34m:\u001b[0m\u001b[0;34m\u001b[0m\u001b[0m\n\u001b[0;32m--> 131\u001b[0;31m         \u001b[0;32mwith\u001b[0m \u001b[0murlopen\u001b[0m\u001b[0;34m(\u001b[0m\u001b[0mobj\u001b[0m\u001b[0;34m)\u001b[0m \u001b[0;32mas\u001b[0m \u001b[0murl\u001b[0m\u001b[0;34m:\u001b[0m\u001b[0;34m\u001b[0m\u001b[0m\n\u001b[0m\u001b[1;32m    132\u001b[0m             \u001b[0mtext\u001b[0m \u001b[0;34m=\u001b[0m \u001b[0murl\u001b[0m\u001b[0;34m.\u001b[0m\u001b[0mread\u001b[0m\u001b[0;34m(\u001b[0m\u001b[0;34m)\u001b[0m\u001b[0;34m\u001b[0m\u001b[0m\n\u001b[1;32m    133\u001b[0m     \u001b[0;32melif\u001b[0m \u001b[0mhasattr\u001b[0m\u001b[0;34m(\u001b[0m\u001b[0mobj\u001b[0m\u001b[0;34m,\u001b[0m \u001b[0;34m'read'\u001b[0m\u001b[0;34m)\u001b[0m\u001b[0;34m:\u001b[0m\u001b[0;34m\u001b[0m\u001b[0m\n",
      "\u001b[0;32m//anaconda/lib/python2.7/contextlib.pyc\u001b[0m in \u001b[0;36m__enter__\u001b[0;34m(self)\u001b[0m\n\u001b[1;32m     15\u001b[0m     \u001b[0;32mdef\u001b[0m \u001b[0m__enter__\u001b[0m\u001b[0;34m(\u001b[0m\u001b[0mself\u001b[0m\u001b[0;34m)\u001b[0m\u001b[0;34m:\u001b[0m\u001b[0;34m\u001b[0m\u001b[0m\n\u001b[1;32m     16\u001b[0m         \u001b[0;32mtry\u001b[0m\u001b[0;34m:\u001b[0m\u001b[0;34m\u001b[0m\u001b[0m\n\u001b[0;32m---> 17\u001b[0;31m             \u001b[0;32mreturn\u001b[0m \u001b[0mself\u001b[0m\u001b[0;34m.\u001b[0m\u001b[0mgen\u001b[0m\u001b[0;34m.\u001b[0m\u001b[0mnext\u001b[0m\u001b[0;34m(\u001b[0m\u001b[0;34m)\u001b[0m\u001b[0;34m\u001b[0m\u001b[0m\n\u001b[0m\u001b[1;32m     18\u001b[0m         \u001b[0;32mexcept\u001b[0m \u001b[0mStopIteration\u001b[0m\u001b[0;34m:\u001b[0m\u001b[0;34m\u001b[0m\u001b[0m\n\u001b[1;32m     19\u001b[0m             \u001b[0;32mraise\u001b[0m \u001b[0mRuntimeError\u001b[0m\u001b[0;34m(\u001b[0m\u001b[0;34m\"generator didn't yield\"\u001b[0m\u001b[0;34m)\u001b[0m\u001b[0;34m\u001b[0m\u001b[0m\n",
      "\u001b[0;32m//anaconda/lib/python2.7/site-packages/pandas/io/common.pyc\u001b[0m in \u001b[0;36murlopen\u001b[0;34m(*args, **kwargs)\u001b[0m\n\u001b[1;32m     70\u001b[0m     \u001b[0;34m@\u001b[0m\u001b[0mcontextmanager\u001b[0m\u001b[0;34m\u001b[0m\u001b[0m\n\u001b[1;32m     71\u001b[0m     \u001b[0;32mdef\u001b[0m \u001b[0murlopen\u001b[0m\u001b[0;34m(\u001b[0m\u001b[0;34m*\u001b[0m\u001b[0margs\u001b[0m\u001b[0;34m,\u001b[0m \u001b[0;34m**\u001b[0m\u001b[0mkwargs\u001b[0m\u001b[0;34m)\u001b[0m\u001b[0;34m:\u001b[0m\u001b[0;34m\u001b[0m\u001b[0m\n\u001b[0;32m---> 72\u001b[0;31m         \u001b[0;32mwith\u001b[0m \u001b[0mclosing\u001b[0m\u001b[0;34m(\u001b[0m\u001b[0m_urlopen\u001b[0m\u001b[0;34m(\u001b[0m\u001b[0;34m*\u001b[0m\u001b[0margs\u001b[0m\u001b[0;34m,\u001b[0m \u001b[0;34m**\u001b[0m\u001b[0mkwargs\u001b[0m\u001b[0;34m)\u001b[0m\u001b[0;34m)\u001b[0m \u001b[0;32mas\u001b[0m \u001b[0mf\u001b[0m\u001b[0;34m:\u001b[0m\u001b[0;34m\u001b[0m\u001b[0m\n\u001b[0m\u001b[1;32m     73\u001b[0m             \u001b[0;32myield\u001b[0m \u001b[0mf\u001b[0m\u001b[0;34m\u001b[0m\u001b[0m\n\u001b[1;32m     74\u001b[0m \u001b[0;34m\u001b[0m\u001b[0m\n",
      "\u001b[0;32m//anaconda/lib/python2.7/urllib2.pyc\u001b[0m in \u001b[0;36murlopen\u001b[0;34m(url, data, timeout, cafile, capath, cadefault, context)\u001b[0m\n\u001b[1;32m    152\u001b[0m     \u001b[0;32melse\u001b[0m\u001b[0;34m:\u001b[0m\u001b[0;34m\u001b[0m\u001b[0m\n\u001b[1;32m    153\u001b[0m         \u001b[0mopener\u001b[0m \u001b[0;34m=\u001b[0m \u001b[0m_opener\u001b[0m\u001b[0;34m\u001b[0m\u001b[0m\n\u001b[0;32m--> 154\u001b[0;31m     \u001b[0;32mreturn\u001b[0m \u001b[0mopener\u001b[0m\u001b[0;34m.\u001b[0m\u001b[0mopen\u001b[0m\u001b[0;34m(\u001b[0m\u001b[0murl\u001b[0m\u001b[0;34m,\u001b[0m \u001b[0mdata\u001b[0m\u001b[0;34m,\u001b[0m \u001b[0mtimeout\u001b[0m\u001b[0;34m)\u001b[0m\u001b[0;34m\u001b[0m\u001b[0m\n\u001b[0m\u001b[1;32m    155\u001b[0m \u001b[0;34m\u001b[0m\u001b[0m\n\u001b[1;32m    156\u001b[0m \u001b[0;32mdef\u001b[0m \u001b[0minstall_opener\u001b[0m\u001b[0;34m(\u001b[0m\u001b[0mopener\u001b[0m\u001b[0;34m)\u001b[0m\u001b[0;34m:\u001b[0m\u001b[0;34m\u001b[0m\u001b[0m\n",
      "\u001b[0;32m//anaconda/lib/python2.7/urllib2.pyc\u001b[0m in \u001b[0;36mopen\u001b[0;34m(self, fullurl, data, timeout)\u001b[0m\n\u001b[1;32m    427\u001b[0m             \u001b[0mreq\u001b[0m \u001b[0;34m=\u001b[0m \u001b[0mmeth\u001b[0m\u001b[0;34m(\u001b[0m\u001b[0mreq\u001b[0m\u001b[0;34m)\u001b[0m\u001b[0;34m\u001b[0m\u001b[0m\n\u001b[1;32m    428\u001b[0m \u001b[0;34m\u001b[0m\u001b[0m\n\u001b[0;32m--> 429\u001b[0;31m         \u001b[0mresponse\u001b[0m \u001b[0;34m=\u001b[0m \u001b[0mself\u001b[0m\u001b[0;34m.\u001b[0m\u001b[0m_open\u001b[0m\u001b[0;34m(\u001b[0m\u001b[0mreq\u001b[0m\u001b[0;34m,\u001b[0m \u001b[0mdata\u001b[0m\u001b[0;34m)\u001b[0m\u001b[0;34m\u001b[0m\u001b[0m\n\u001b[0m\u001b[1;32m    430\u001b[0m \u001b[0;34m\u001b[0m\u001b[0m\n\u001b[1;32m    431\u001b[0m         \u001b[0;31m# post-process response\u001b[0m\u001b[0;34m\u001b[0m\u001b[0;34m\u001b[0m\u001b[0m\n",
      "\u001b[0;32m//anaconda/lib/python2.7/urllib2.pyc\u001b[0m in \u001b[0;36m_open\u001b[0;34m(self, req, data)\u001b[0m\n\u001b[1;32m    445\u001b[0m         \u001b[0mprotocol\u001b[0m \u001b[0;34m=\u001b[0m \u001b[0mreq\u001b[0m\u001b[0;34m.\u001b[0m\u001b[0mget_type\u001b[0m\u001b[0;34m(\u001b[0m\u001b[0;34m)\u001b[0m\u001b[0;34m\u001b[0m\u001b[0m\n\u001b[1;32m    446\u001b[0m         result = self._call_chain(self.handle_open, protocol, protocol +\n\u001b[0;32m--> 447\u001b[0;31m                                   '_open', req)\n\u001b[0m\u001b[1;32m    448\u001b[0m         \u001b[0;32mif\u001b[0m \u001b[0mresult\u001b[0m\u001b[0;34m:\u001b[0m\u001b[0;34m\u001b[0m\u001b[0m\n\u001b[1;32m    449\u001b[0m             \u001b[0;32mreturn\u001b[0m \u001b[0mresult\u001b[0m\u001b[0;34m\u001b[0m\u001b[0m\n",
      "\u001b[0;32m//anaconda/lib/python2.7/urllib2.pyc\u001b[0m in \u001b[0;36m_call_chain\u001b[0;34m(self, chain, kind, meth_name, *args)\u001b[0m\n\u001b[1;32m    405\u001b[0m             \u001b[0mfunc\u001b[0m \u001b[0;34m=\u001b[0m \u001b[0mgetattr\u001b[0m\u001b[0;34m(\u001b[0m\u001b[0mhandler\u001b[0m\u001b[0;34m,\u001b[0m \u001b[0mmeth_name\u001b[0m\u001b[0;34m)\u001b[0m\u001b[0;34m\u001b[0m\u001b[0m\n\u001b[1;32m    406\u001b[0m \u001b[0;34m\u001b[0m\u001b[0m\n\u001b[0;32m--> 407\u001b[0;31m             \u001b[0mresult\u001b[0m \u001b[0;34m=\u001b[0m \u001b[0mfunc\u001b[0m\u001b[0;34m(\u001b[0m\u001b[0;34m*\u001b[0m\u001b[0margs\u001b[0m\u001b[0;34m)\u001b[0m\u001b[0;34m\u001b[0m\u001b[0m\n\u001b[0m\u001b[1;32m    408\u001b[0m             \u001b[0;32mif\u001b[0m \u001b[0mresult\u001b[0m \u001b[0;32mis\u001b[0m \u001b[0;32mnot\u001b[0m \u001b[0mNone\u001b[0m\u001b[0;34m:\u001b[0m\u001b[0;34m\u001b[0m\u001b[0m\n\u001b[1;32m    409\u001b[0m                 \u001b[0;32mreturn\u001b[0m \u001b[0mresult\u001b[0m\u001b[0;34m\u001b[0m\u001b[0m\n",
      "\u001b[0;32m//anaconda/lib/python2.7/urllib2.pyc\u001b[0m in \u001b[0;36mhttp_open\u001b[0;34m(self, req)\u001b[0m\n\u001b[1;32m   1226\u001b[0m \u001b[0;34m\u001b[0m\u001b[0m\n\u001b[1;32m   1227\u001b[0m     \u001b[0;32mdef\u001b[0m \u001b[0mhttp_open\u001b[0m\u001b[0;34m(\u001b[0m\u001b[0mself\u001b[0m\u001b[0;34m,\u001b[0m \u001b[0mreq\u001b[0m\u001b[0;34m)\u001b[0m\u001b[0;34m:\u001b[0m\u001b[0;34m\u001b[0m\u001b[0m\n\u001b[0;32m-> 1228\u001b[0;31m         \u001b[0;32mreturn\u001b[0m \u001b[0mself\u001b[0m\u001b[0;34m.\u001b[0m\u001b[0mdo_open\u001b[0m\u001b[0;34m(\u001b[0m\u001b[0mhttplib\u001b[0m\u001b[0;34m.\u001b[0m\u001b[0mHTTPConnection\u001b[0m\u001b[0;34m,\u001b[0m \u001b[0mreq\u001b[0m\u001b[0;34m)\u001b[0m\u001b[0;34m\u001b[0m\u001b[0m\n\u001b[0m\u001b[1;32m   1229\u001b[0m \u001b[0;34m\u001b[0m\u001b[0m\n\u001b[1;32m   1230\u001b[0m     \u001b[0mhttp_request\u001b[0m \u001b[0;34m=\u001b[0m \u001b[0mAbstractHTTPHandler\u001b[0m\u001b[0;34m.\u001b[0m\u001b[0mdo_request_\u001b[0m\u001b[0;34m\u001b[0m\u001b[0m\n",
      "\u001b[0;32m//anaconda/lib/python2.7/urllib2.pyc\u001b[0m in \u001b[0;36mdo_open\u001b[0;34m(self, http_class, req, **http_conn_args)\u001b[0m\n\u001b[1;32m   1196\u001b[0m         \u001b[0;32mexcept\u001b[0m \u001b[0msocket\u001b[0m\u001b[0;34m.\u001b[0m\u001b[0merror\u001b[0m\u001b[0;34m,\u001b[0m \u001b[0merr\u001b[0m\u001b[0;34m:\u001b[0m \u001b[0;31m# XXX what error?\u001b[0m\u001b[0;34m\u001b[0m\u001b[0m\n\u001b[1;32m   1197\u001b[0m             \u001b[0mh\u001b[0m\u001b[0;34m.\u001b[0m\u001b[0mclose\u001b[0m\u001b[0;34m(\u001b[0m\u001b[0;34m)\u001b[0m\u001b[0;34m\u001b[0m\u001b[0m\n\u001b[0;32m-> 1198\u001b[0;31m             \u001b[0;32mraise\u001b[0m \u001b[0mURLError\u001b[0m\u001b[0;34m(\u001b[0m\u001b[0merr\u001b[0m\u001b[0;34m)\u001b[0m\u001b[0;34m\u001b[0m\u001b[0m\n\u001b[0m\u001b[1;32m   1199\u001b[0m         \u001b[0;32melse\u001b[0m\u001b[0;34m:\u001b[0m\u001b[0;34m\u001b[0m\u001b[0m\n\u001b[1;32m   1200\u001b[0m             \u001b[0;32mtry\u001b[0m\u001b[0;34m:\u001b[0m\u001b[0;34m\u001b[0m\u001b[0m\n",
      "\u001b[0;31mURLError\u001b[0m: <urlopen error [Errno 8] nodename nor servname provided, or not known>"
     ]
    }
   ],
   "source": [
    "import pandas as pd\n",
    "\n",
    "url = 'http://www.sv.uio.no/english/research/phd/summer-school/courses-2017/'\n",
    "\n",
    "courses = pd.read_html(url)"
   ]
  },
  {
   "cell_type": "markdown",
   "metadata": {
    "slideshow": {
     "slide_type": "slide"
    }
   },
   "source": [
    "This returns a list of HTML tables on the page as pandas dataframes. "
   ]
  },
  {
   "cell_type": "code",
   "execution_count": null,
   "metadata": {
    "slideshow": {
     "slide_type": "fragment"
    }
   },
   "outputs": [],
   "source": [
    "courses[0]"
   ]
  },
  {
   "cell_type": "code",
   "execution_count": 2,
   "metadata": {},
   "outputs": [
    {
     "ename": "NameError",
     "evalue": "name 'courses' is not defined",
     "output_type": "error",
     "traceback": [
      "\u001b[0;31m---------------------------------------------------------------------------\u001b[0m",
      "\u001b[0;31mNameError\u001b[0m                                 Traceback (most recent call last)",
      "\u001b[0;32m<ipython-input-2-7eed4b5d3322>\u001b[0m in \u001b[0;36m<module>\u001b[0;34m()\u001b[0m\n\u001b[0;32m----> 1\u001b[0;31m \u001b[0mcourses\u001b[0m\u001b[0;34m[\u001b[0m\u001b[0;36m1\u001b[0m\u001b[0;34m]\u001b[0m\u001b[0;34m\u001b[0m\u001b[0m\n\u001b[0m",
      "\u001b[0;31mNameError\u001b[0m: name 'courses' is not defined"
     ]
    }
   ],
   "source": [
    "courses[1]"
   ]
  },
  {
   "cell_type": "markdown",
   "metadata": {
    "slideshow": {
     "slide_type": "fragment"
    }
   },
   "source": [
    "Give this a try first!"
   ]
  },
  {
   "cell_type": "markdown",
   "metadata": {
    "slideshow": {
     "slide_type": "slide"
    }
   },
   "source": [
    "<div class=\"alert alert-info\"> \n",
    "<h1> Your turn</h1>\n",
    "<p>Scrape the 2015 course listings\n"
   ]
  },
  {
   "cell_type": "markdown",
   "metadata": {
    "slideshow": {
     "slide_type": "slide"
    }
   },
   "source": [
    "### Sometimes you can hack their API.\n",
    "\n",
    "![](https://raw.githubusercontent.com/nealcaren/CSSS-CABD/master/images/HttpFox.png)"
   ]
  },
  {
   "cell_type": "markdown",
   "metadata": {
    "slideshow": {
     "slide_type": "slide"
    }
   },
   "source": [
    "### If you know HTML, you can also parse the page."
   ]
  },
  {
   "cell_type": "code",
   "execution_count": 39,
   "metadata": {
    "collapsed": true,
    "slideshow": {
     "slide_type": "fragment"
    }
   },
   "outputs": [],
   "source": [
    "from bs4 import BeautifulSoup"
   ]
  },
  {
   "cell_type": "code",
   "execution_count": 40,
   "metadata": {
    "collapsed": true,
    "slideshow": {
     "slide_type": "fragment"
    }
   },
   "outputs": [],
   "source": [
    "soup = BeautifulSoup(page_html, \"lxml\")"
   ]
  },
  {
   "cell_type": "code",
   "execution_count": 41,
   "metadata": {
    "slideshow": {
     "slide_type": "fragment"
    }
   },
   "outputs": [
    {
     "data": {
      "text/plain": [
       "[<div class=\"art_title\">Nonviolent Resistance Research</div>,\n",
       " <div class=\"art_title\">Do Contemporaneous Armed Challenges Affect the Outcomes of Mass Nonviolent Campaigns?</div>,\n",
       " <div class=\"art_title\">Revolution, Nonviolence, and the Arab Uprisings</div>,\n",
       " <div class=\"art_title\">Nonviolence as a Weapon of the Resourceful: From Claims to Tactics in Mobilization</div>,\n",
       " <div class=\"art_title\">Rightful Radical Resistance: Mass Mobilization and Land Struggles in India and Brazil</div>,\n",
       " <div class=\"art_title\">Decolonizing Civil Resistance</div>,\n",
       " <div class=\"art_title\">The Dynamics of Nonviolence Knowledge</div>,\n",
       " <div class=\"art_title\">Book Reviews</div>]"
      ]
     },
     "execution_count": 41,
     "metadata": {},
     "output_type": "execute_result"
    }
   ],
   "source": [
    "soup.find_all('div', attrs={'class':'art_title'})"
   ]
  },
  {
   "cell_type": "code",
   "execution_count": 43,
   "metadata": {
    "slideshow": {
     "slide_type": "slide"
    }
   },
   "outputs": [
    {
     "name": "stdout",
     "output_type": "stream",
     "text": [
      "Nonviolent Resistance Research\n",
      "Do Contemporaneous Armed Challenges Affect the Outcomes of Mass Nonviolent Campaigns?\n",
      "Revolution, Nonviolence, and the Arab Uprisings\n",
      "Nonviolence as a Weapon of the Resourceful: From Claims to Tactics in Mobilization\n",
      "Rightful Radical Resistance: Mass Mobilization and Land Struggles in India and Brazil\n",
      "Decolonizing Civil Resistance\n",
      "The Dynamics of Nonviolence Knowledge\n",
      "Book Reviews\n"
     ]
    }
   ],
   "source": [
    "ts = soup.find_all('div', attrs={'class':'art_title'})\n",
    "\n",
    "for i in ts:\n",
    "    print i.contents[0]\n"
   ]
  },
  {
   "cell_type": "code",
   "execution_count": 44,
   "metadata": {
    "slideshow": {
     "slide_type": "fragment"
    }
   },
   "outputs": [
    {
     "data": {
      "text/plain": [
       "[u'Nonviolent Resistance Research',\n",
       " u'Do Contemporaneous Armed Challenges Affect the Outcomes of Mass Nonviolent Campaigns?',\n",
       " u'Revolution, Nonviolence, and the Arab Uprisings',\n",
       " u'Nonviolence as a Weapon of the Resourceful: From Claims to Tactics in Mobilization',\n",
       " u'Rightful Radical Resistance: Mass Mobilization and Land Struggles in India and Brazil',\n",
       " u'Decolonizing Civil Resistance',\n",
       " u'The Dynamics of Nonviolence Knowledge',\n",
       " u'Book Reviews']"
      ]
     },
     "execution_count": 44,
     "metadata": {},
     "output_type": "execute_result"
    }
   ],
   "source": [
    "[i.contents[0] for i in ts]"
   ]
  },
  {
   "cell_type": "code",
   "execution_count": 45,
   "metadata": {
    "collapsed": true,
    "slideshow": {
     "slide_type": "slide"
    }
   },
   "outputs": [],
   "source": [
    "def load_or_get(volume, issue):\n",
    "    '''\n",
    "    Tries to open a Moby issue. If not found, gets it from the internet.\n",
    "    '''\n",
    "    \n",
    "    file_name = 'moby_%s_%s.html' % (volume, issue)\n",
    "    url       = 'http://mobilizationjournal.org/toc/maiq/%s/%s' % (volume, issue)\n",
    "    \n",
    "    # First, try to find the file stored locally.\n",
    "    try:\n",
    "        with codecs.open(file_name, 'r') as infile:\n",
    "            page_html = infile.read()\n",
    "    # If that didn't work, try getting it from the interent      \n",
    "    except Exception, e:\n",
    "        print 'Going to the internet to get %s-%s' % (issue, volume)\n",
    "        page = requests.get(url)\n",
    "        page_html = page.text\n",
    "            \n",
    "        # Save the file so you only go to the page once. It is polite. \n",
    "        with codecs.open(file_name, 'wb') as outfile:\n",
    "            outfile.write(page_html)\n",
    "    \n",
    "    #don't forget to send the stuff back\n",
    "    return page_html"
   ]
  },
  {
   "cell_type": "code",
   "execution_count": 46,
   "metadata": {
    "slideshow": {
     "slide_type": "fragment"
    }
   },
   "outputs": [
    {
     "name": "stdout",
     "output_type": "stream",
     "text": [
      "Going to the internet to get 1-8\n"
     ]
    }
   ],
   "source": [
    "page_html = load_or_get(8,1)"
   ]
  },
  {
   "cell_type": "code",
   "execution_count": 47,
   "metadata": {
    "slideshow": {
     "slide_type": "fragment"
    }
   },
   "outputs": [
    {
     "name": "stdout",
     "output_type": "stream",
     "text": [
      "Going to the internet to get 1-10\n"
     ]
    }
   ],
   "source": [
    "page_html = load_or_get(10,1)"
   ]
  },
  {
   "cell_type": "code",
   "execution_count": 48,
   "metadata": {
    "collapsed": true,
    "slideshow": {
     "slide_type": "slide"
    }
   },
   "outputs": [],
   "source": [
    "def scrape_headlines(page_html):\n",
    "    titles =  re.findall('div class=\"art_title\">(.*?)<\\/div', page_html)\n",
    "    return titles"
   ]
  },
  {
   "cell_type": "code",
   "execution_count": 97,
   "metadata": {
    "slideshow": {
     "slide_type": "fragment"
    }
   },
   "outputs": [
    {
     "name": "stdout",
     "output_type": "stream",
     "text": [
      "Going to the internet to get 1-13\n",
      "[u'Repression and Crime Control: Why Social Movement Scholars Should Pay Attention to Mass Incarceration as a Form of Repression', u'Borrowing from the Women\\'s Movement \"for Reasons of Public Security\": A Study of Social Movement Outcomes and Judicial Activism in the European Union', u'Ideology, Strategy and Conflict in a Social Movement Organization: The Sierra Club Immigration Wars', u'Situating Movements Historically: May 1968, Alain Touraine, and New Social Movement Theory', u'The Spatial Dynamics of the May 1968 French Demonstrations', u'Forming Coalitions: A Network-Theoretic Approach to the Contemporary South Korean Environmental Movement']\n",
      "Going to the internet to get 2-13\n",
      "[u'Assessing Stability in the Patterns of Selection Bias in Newspaper Coverage of Protest During the Transition from Communism in Belarus<sup>*</sup>', u'Validity and Media-Derived Protest Event Data: Examining Relative Coverage Tendencies in Mexican News Media <sup>*</sup>', u'The Sequencing of Success: Organizing Templates and Neoliberal Policy Outcomes', u'The Individual and Contextual Determinants of Protest Among Latinos', u'A Theory of Practice for Social Movements: Environmentalism and Ecological Habitus<sup>*</sup>', u'In the Name of the Prophet? Danish Muslim Mobilization During the Muhammad Caricatures Controversy<sup>*</sup>']\n"
     ]
    }
   ],
   "source": [
    "volume = 13\n",
    "\n",
    "for issue in [1,2]:\n",
    "    page_html = load_or_get(volume, issue)\n",
    "    print  scrape_headlines(page_html)"
   ]
  },
  {
   "cell_type": "markdown",
   "metadata": {
    "collapsed": true,
    "slideshow": {
     "slide_type": "slide"
    }
   },
   "source": [
    "### Still stuck?\n"
   ]
  },
  {
   "cell_type": "markdown",
   "metadata": {
    "slideshow": {
     "slide_type": "fragment"
    }
   },
   "source": [
    "Spoofing a browser\n",
    "\n",
    "`headers = {'user-agent': 'Mozilla/5.0 (Macintosh; Intel Mac OS X 10_12_5) AppleWebKit/537.36 (KHTML, like Gecko) Chrome/59.0.3071.115 Safari/537.36'}`\n",
    "\n",
    "`r = requests.get(url, headers=headers)`"
   ]
  },
  {
   "cell_type": "markdown",
   "metadata": {
    "slideshow": {
     "slide_type": "slide"
    }
   },
   "source": [
    "Keep cookies\n",
    "\n",
    "`s = requests.Session()`\n",
    "\n",
    "`s.get('http://httpbin.org/get')`\n"
   ]
  },
  {
   "cell_type": "markdown",
   "metadata": {
    "slideshow": {
     "slide_type": "slide"
    }
   },
   "source": [
    "Authentication in requests\n",
    "\n",
    "`requests.get('https://api.github.com/user', auth=('user', 'pass'))`"
   ]
  },
  {
   "cell_type": "markdown",
   "metadata": {
    "slideshow": {
     "slide_type": "slide"
    }
   },
   "source": [
    "### Still still stuck\n",
    "\n",
    "\n",
    "\n",
    "2. [scrapy](https://scrapy.org/)\n",
    "3. Selenium - control the browser. "
   ]
  }
 ],
 "metadata": {
  "celltoolbar": "Slideshow",
  "kernelspec": {
   "display_name": "Python [default]",
   "language": "python",
   "name": "python2"
  },
  "language_info": {
   "codemirror_mode": {
    "name": "ipython",
    "version": 2
   },
   "file_extension": ".py",
   "mimetype": "text/x-python",
   "name": "python",
   "nbconvert_exporter": "python",
   "pygments_lexer": "ipython2",
   "version": "2.7.13"
  }
 },
 "nbformat": 4,
 "nbformat_minor": 1
}
