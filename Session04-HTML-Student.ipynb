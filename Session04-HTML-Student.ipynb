{
 "cells": [
  {
   "cell_type": "markdown",
   "metadata": {
    "slideshow": {
     "slide_type": "slide"
    }
   },
   "source": [
    "## Scraping websites"
   ]
  },
  {
   "cell_type": "markdown",
   "metadata": {
    "slideshow": {
     "slide_type": "slide"
    }
   },
   "source": [
    "How I scrape a page\n",
    "\n",
    "1. Look at the source code of a sample page.\n",
    "1. Download the page.\n",
    "2. Find the thing that you want, and the stuff around that thing.\n",
    "3. Write a regular expression that matches what you want.\n",
    "4. Write regular expression that actually matches what you want.\n",
    "5. Test that it works on one page.\n",
    "5. Production!"
   ]
  },
  {
   "cell_type": "markdown",
   "metadata": {
    "slideshow": {
     "slide_type": "slide"
    }
   },
   "source": [
    "How I could also scrape a page\n",
    "\n",
    "1. Look at the source code of a sample page.\n",
    "1. Download the page.\n",
    "2. Find the thing that you want, and the stuff around that thing.\n",
    "3. Parse the HTML. \n",
    "5. Test that it works on one page.\n",
    "5. Production!"
   ]
  },
  {
   "cell_type": "code",
   "execution_count": null,
   "metadata": {
    "collapsed": true,
    "slideshow": {
     "slide_type": "slide"
    }
   },
   "outputs": [],
   "source": [
    "import requests"
   ]
  },
  {
   "cell_type": "code",
   "execution_count": null,
   "metadata": {
    "collapsed": true,
    "slideshow": {
     "slide_type": "fragment"
    }
   },
   "outputs": [],
   "source": [
    "url = 'http://mobilizationjournal.org/toc/maiq/22/2'"
   ]
  },
  {
   "cell_type": "code",
   "execution_count": null,
   "metadata": {
    "slideshow": {
     "slide_type": "fragment"
    }
   },
   "outputs": [],
   "source": [
    "volume = 22\n",
    "issue  = 2\n",
    "\n",
    "url = 'http://mobilizationjournal.org/toc/maiq/%s/%s' % (volume, issue)\n",
    "\n",
    "print(url)"
   ]
  },
  {
   "cell_type": "code",
   "execution_count": null,
   "metadata": {
    "collapsed": true,
    "slideshow": {
     "slide_type": "slide"
    }
   },
   "outputs": [],
   "source": [
    "page = requests.get(url)"
   ]
  },
  {
   "cell_type": "code",
   "execution_count": null,
   "metadata": {
    "slideshow": {
     "slide_type": "fragment"
    }
   },
   "outputs": [],
   "source": [
    "print page.headers"
   ]
  },
  {
   "cell_type": "code",
   "execution_count": null,
   "metadata": {
    "slideshow": {
     "slide_type": "fragment"
    }
   },
   "outputs": [],
   "source": [
    "page.status_code"
   ]
  },
  {
   "cell_type": "code",
   "execution_count": null,
   "metadata": {
    "slideshow": {
     "slide_type": "slide"
    }
   },
   "outputs": [],
   "source": [
    "page.text"
   ]
  },
  {
   "cell_type": "code",
   "execution_count": null,
   "metadata": {
    "collapsed": true,
    "slideshow": {
     "slide_type": "slide"
    }
   },
   "outputs": [],
   "source": [
    "from IPython.display import HTML"
   ]
  },
  {
   "cell_type": "code",
   "execution_count": null,
   "metadata": {
    "slideshow": {
     "slide_type": "fragment"
    }
   },
   "outputs": [],
   "source": [
    "HTML(page.text)"
   ]
  },
  {
   "cell_type": "code",
   "execution_count": null,
   "metadata": {
    "collapsed": true,
    "slideshow": {
     "slide_type": "slide"
    }
   },
   "outputs": [],
   "source": [
    "page_html = page.text"
   ]
  },
  {
   "cell_type": "code",
   "execution_count": null,
   "metadata": {
    "collapsed": true,
    "slideshow": {
     "slide_type": "slide"
    }
   },
   "outputs": [],
   "source": [
    "import re"
   ]
  },
  {
   "cell_type": "code",
   "execution_count": null,
   "metadata": {
    "slideshow": {
     "slide_type": "slide"
    }
   },
   "outputs": [],
   "source": [
    "re.findall('div class=\"art_title\">.*?<', page_html)   "
   ]
  },
  {
   "cell_type": "code",
   "execution_count": null,
   "metadata": {
    "slideshow": {
     "slide_type": "fragment"
    }
   },
   "outputs": [],
   "source": [
    "re.findall('div class=\"art_title\">(.*?)<', page_html)   "
   ]
  },
  {
   "cell_type": "code",
   "execution_count": null,
   "metadata": {
    "slideshow": {
     "slide_type": "fragment"
    }
   },
   "outputs": [],
   "source": [
    "re.findall('div class=\"art_title\">(.*?)<\\/div', page_html)   "
   ]
  },
  {
   "cell_type": "markdown",
   "metadata": {
    "slideshow": {
     "slide_type": "slide"
    }
   },
   "source": [
    "<div class=\"alert alert-info\">\n",
    "Your turn. Find the sizes of all the linked PDFs!\n",
    "</div> "
   ]
  },
  {
   "cell_type": "code",
   "execution_count": null,
   "metadata": {
    "collapsed": true,
    "slideshow": {
     "slide_type": "slide"
    }
   },
   "outputs": [],
   "source": []
  },
  {
   "cell_type": "code",
   "execution_count": null,
   "metadata": {
    "collapsed": true,
    "slideshow": {
     "slide_type": "fragment"
    }
   },
   "outputs": [],
   "source": [
    "titles = re.findall('div class=\"art_title\">(.*?)<\\/div', page_html)   "
   ]
  },
  {
   "cell_type": "code",
   "execution_count": null,
   "metadata": {
    "slideshow": {
     "slide_type": "fragment"
    }
   },
   "outputs": [],
   "source": [
    "titles"
   ]
  },
  {
   "cell_type": "code",
   "execution_count": null,
   "metadata": {
    "slideshow": {
     "slide_type": "slide"
    }
   },
   "outputs": [],
   "source": [
    "issue  = 1\n",
    "\n",
    "url = 'http://mobilizationjournal.org/toc/maiq/%s/%s' % (volume, issue)\n",
    "\n",
    "print(url)\n",
    "\n",
    "page = requests.get(url)\n",
    "page_html = page.text\n",
    "titles =  re.findall('div class=\"art_title\">(.*?)<\\/div', page_html)  \n",
    "\n",
    "print titles\n"
   ]
  },
  {
   "cell_type": "markdown",
   "metadata": {
    "slideshow": {
     "slide_type": "slide"
    }
   },
   "source": [
    "Production time!!!"
   ]
  },
  {
   "cell_type": "code",
   "execution_count": null,
   "metadata": {
    "slideshow": {
     "slide_type": "fragment"
    }
   },
   "outputs": [],
   "source": [
    "volume = 20\n",
    "\n",
    "for issue in range(1,5):\n",
    "    url = 'http://mobilizationjournal.org/toc/maiq/%s/%s' % (volume, issue)\n",
    "    print url\n"
   ]
  },
  {
   "cell_type": "code",
   "execution_count": null,
   "metadata": {
    "collapsed": true,
    "slideshow": {
     "slide_type": "slide"
    }
   },
   "outputs": [],
   "source": [
    "from time import sleep"
   ]
  },
  {
   "cell_type": "code",
   "execution_count": null,
   "metadata": {
    "collapsed": true,
    "slideshow": {
     "slide_type": "fragment"
    }
   },
   "outputs": [],
   "source": [
    "def get_moby_titles(page_html):\n",
    "    titles =  re.findall('div class=\"art_title\">(.*?)<\\/div', page_html)  \n",
    "    return titles\n",
    "\n",
    "\n",
    "#somewhere to store the titles\n",
    "titles = []\n",
    "volume = 20\n",
    "\n",
    "#Loop through 1 volume pages.\n",
    "for issue in range(1,5):\n",
    "    #construct the URL\n",
    "    url = 'http://mobilizationjournal.org/toc/maiq/%s/%s' % (volume, issue)\n",
    "\n",
    "    #Open the page and grab the HTML\n",
    "    page = requests.get(url)\n",
    "    page_html = page.text\n",
    "    \n",
    "    #Extract the headlines\n",
    "    new_titles = get_moby_titles(page_html) \n",
    "\n",
    "    #Add them to our headline list\n",
    "    titles = titles + new_titles\n",
    "    \n",
    "    #Rest\n",
    "    sleep(1)\n",
    "\n",
    "    \n"
   ]
  },
  {
   "cell_type": "code",
   "execution_count": null,
   "metadata": {
    "slideshow": {
     "slide_type": "slide"
    }
   },
   "outputs": [],
   "source": [
    "len(titles)"
   ]
  },
  {
   "cell_type": "code",
   "execution_count": null,
   "metadata": {
    "slideshow": {
     "slide_type": "fragment"
    }
   },
   "outputs": [],
   "source": [
    "titles"
   ]
  },
  {
   "cell_type": "code",
   "execution_count": null,
   "metadata": {
    "slideshow": {
     "slide_type": "slide"
    }
   },
   "outputs": [],
   "source": [
    "titles[:10]"
   ]
  },
  {
   "cell_type": "code",
   "execution_count": null,
   "metadata": {
    "slideshow": {
     "slide_type": "slide"
    }
   },
   "outputs": [],
   "source": [
    "titles[-10:]"
   ]
  },
  {
   "cell_type": "code",
   "execution_count": null,
   "metadata": {
    "collapsed": true,
    "slideshow": {
     "slide_type": "fragment"
    }
   },
   "outputs": [],
   "source": [
    "import codecs\n",
    "\n",
    "with codecs.open('moby_titles.txt', 'wb', 'utf8') as outfile:\n",
    "    \n",
    "    #Loop through each of our headlines\n",
    "    for title in titles:\n",
    "        \n",
    "        #'\\n' says End of line\n",
    "        outfile.write(title + '\\n')\n"
   ]
  },
  {
   "cell_type": "code",
   "execution_count": null,
   "metadata": {
    "slideshow": {
     "slide_type": "fragment"
    }
   },
   "outputs": [],
   "source": [
    "!cat moby_titles.txt"
   ]
  },
  {
   "cell_type": "markdown",
   "metadata": {
    "slideshow": {
     "slide_type": "slide"
    }
   },
   "source": [
    "<div class=\"alert alert-info\"> \n",
    "<h1> Your turn</h1>\n",
    "<p>Find the email addresses of the Univeristy of North Carolina, Chapel Hill Sociology faculty. \n",
    "<p> <em> Remember to put things in functions as soon as possible. </em>\n",
    "<p>Then try your script on the Political Science faculty page. \n",
    "<p>Does the script work for your department?\n",
    "</div>\n",
    "\n"
   ]
  },
  {
   "cell_type": "markdown",
   "metadata": {
    "slideshow": {
     "slide_type": "slide"
    }
   },
   "source": [
    "### Pandas lets you cheat\n",
    "\n",
    "[You had choices.](http://www.sv.uio.no/english/research/phd/summer-school/courses-2017/)"
   ]
  },
  {
   "cell_type": "code",
   "execution_count": null,
   "metadata": {
    "collapsed": true,
    "slideshow": {
     "slide_type": "slide"
    }
   },
   "outputs": [],
   "source": [
    "import pandas as pd\n",
    "\n",
    "url = 'http://www.sv.uio.no/english/research/phd/summer-school/courses-2017/'\n",
    "\n",
    "courses = pd.read_html(url)"
   ]
  },
  {
   "cell_type": "code",
   "execution_count": null,
   "metadata": {
    "slideshow": {
     "slide_type": "slide"
    }
   },
   "outputs": [],
   "source": [
    "courses[0]"
   ]
  },
  {
   "cell_type": "code",
   "execution_count": null,
   "metadata": {},
   "outputs": [],
   "source": [
    "courses[1]"
   ]
  },
  {
   "cell_type": "markdown",
   "metadata": {
    "slideshow": {
     "slide_type": "slide"
    }
   },
   "source": [
    "<div class=\"alert alert-info\"> \n",
    "<h1> Your turn</h1>\n",
    "<p>Scrape the 2015 course listings\n"
   ]
  },
  {
   "cell_type": "code",
   "execution_count": null,
   "metadata": {
    "collapsed": true
   },
   "outputs": [],
   "source": []
  },
  {
   "cell_type": "code",
   "execution_count": null,
   "metadata": {
    "collapsed": true,
    "slideshow": {
     "slide_type": "fragment"
    }
   },
   "outputs": [],
   "source": [
    "from bs4 import BeautifulSoup"
   ]
  },
  {
   "cell_type": "code",
   "execution_count": null,
   "metadata": {
    "collapsed": true,
    "slideshow": {
     "slide_type": "fragment"
    }
   },
   "outputs": [],
   "source": [
    "soup = BeautifulSoup(page_html, \"lxml\")"
   ]
  },
  {
   "cell_type": "code",
   "execution_count": null,
   "metadata": {
    "slideshow": {
     "slide_type": "fragment"
    }
   },
   "outputs": [],
   "source": [
    "soup.find_all('div', attrs={'class':'art_title'})"
   ]
  },
  {
   "cell_type": "code",
   "execution_count": null,
   "metadata": {
    "slideshow": {
     "slide_type": "slide"
    }
   },
   "outputs": [],
   "source": [
    "ts = soup.find_all('div', attrs={'class':'art_title'})\n",
    "\n",
    "for i in ts:\n",
    "    print i.contents[0]\n"
   ]
  },
  {
   "cell_type": "code",
   "execution_count": null,
   "metadata": {
    "slideshow": {
     "slide_type": "fragment"
    }
   },
   "outputs": [],
   "source": [
    "[i.contents[0] for i in ts]"
   ]
  },
  {
   "cell_type": "code",
   "execution_count": null,
   "metadata": {
    "collapsed": true,
    "slideshow": {
     "slide_type": "slide"
    }
   },
   "outputs": [],
   "source": [
    "def load_or_get(volume, issue):\n",
    "    '''\n",
    "    Tries to open a Moby issue. If not found, gets it from the internet.\n",
    "    '''\n",
    "    \n",
    "    file_name = 'moby_%s_%s.html' % (volume, issue)\n",
    "    url       = 'http://mobilizationjournal.org/toc/maiq/%s/%s' % (volume, issue)\n",
    "    \n",
    "    # First, try to find the file stored locally.\n",
    "    try:\n",
    "        with codecs.open(file_name, 'r') as infile:\n",
    "            page_html = infile.read()\n",
    "    # If that didn't work, try getting it from the interent      \n",
    "    except Exception, e:\n",
    "        print 'Going to the internet to get %s-%s' % (issue, volume)\n",
    "        page = requests.get(url)\n",
    "        page_html = page.text\n",
    "            \n",
    "        # Save the file so you only go to the page once. It is polite. \n",
    "        with codecs.open(file_name, 'wb') as outfile:\n",
    "            outfile.write(page_html)\n",
    "    \n",
    "    #don't forget to send the stuff back\n",
    "    return page_html"
   ]
  },
  {
   "cell_type": "code",
   "execution_count": null,
   "metadata": {
    "slideshow": {
     "slide_type": "fragment"
    }
   },
   "outputs": [],
   "source": [
    "page_html = load_or_get(8,1)"
   ]
  },
  {
   "cell_type": "code",
   "execution_count": null,
   "metadata": {
    "slideshow": {
     "slide_type": "fragment"
    }
   },
   "outputs": [],
   "source": [
    "page_html = load_or_get(10,1)"
   ]
  },
  {
   "cell_type": "code",
   "execution_count": null,
   "metadata": {
    "collapsed": true,
    "slideshow": {
     "slide_type": "slide"
    }
   },
   "outputs": [],
   "source": [
    "def scrape_headlines(page_html):\n",
    "    titles =  re.findall('div class=\"art_title\">(.*?)<\\/div', page_html)\n",
    "    return titles"
   ]
  },
  {
   "cell_type": "code",
   "execution_count": null,
   "metadata": {
    "slideshow": {
     "slide_type": "fragment"
    }
   },
   "outputs": [],
   "source": [
    "volume = 13\n",
    "\n",
    "for issue in [1,2]:\n",
    "    page_html = load_or_get(volume, issue)\n",
    "    print  scrape_headlines(page_html)"
   ]
  }
 ],
 "metadata": {
  "celltoolbar": "Slideshow",
  "kernelspec": {
   "display_name": "Python [default]",
   "language": "python",
   "name": "python2"
  },
  "language_info": {
   "codemirror_mode": {
    "name": "ipython",
    "version": 2
   },
   "file_extension": ".py",
   "mimetype": "text/x-python",
   "name": "python",
   "nbconvert_exporter": "python",
   "pygments_lexer": "ipython2",
   "version": "2.7.13"
  }
 },
 "nbformat": 4,
 "nbformat_minor": 1
}
